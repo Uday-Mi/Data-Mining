{
  "nbformat": 4,
  "nbformat_minor": 0,
  "metadata": {
    "colab": {
      "provenance": []
    },
    "kernelspec": {
      "name": "python3",
      "display_name": "Python 3"
    },
    "language_info": {
      "name": "python"
    }
  },
  "cells": [
    {
      "cell_type": "code",
      "execution_count": 186,
      "metadata": {
        "id": "ZeVVREH5A_9y"
      },
      "outputs": [],
      "source": [
        "import pandas as pd\n",
        "import numpy as np\n",
        "from sklearn import metrics"
      ]
    },
    {
      "cell_type": "code",
      "source": [
        "df = pd.read_csv(\"s1_modified_labelled.csv\")"
      ],
      "metadata": {
        "id": "1QW85robBmz5"
      },
      "execution_count": 187,
      "outputs": []
    },
    {
      "cell_type": "code",
      "source": [
        "d = pd.read_csv(\"s1_modified_labelled.csv\")"
      ],
      "metadata": {
        "id": "OIXjQ6RIUMfX"
      },
      "execution_count": 269,
      "outputs": []
    },
    {
      "cell_type": "code",
      "source": [
        "df.head()"
      ],
      "metadata": {
        "colab": {
          "base_uri": "https://localhost:8080/",
          "height": 206
        },
        "id": "xtEG_PL8B-xL",
        "outputId": "b63d7346-1f11-4a9a-9198-2b452417d467"
      },
      "execution_count": 188,
      "outputs": [
        {
          "output_type": "execute_result",
          "data": {
            "text/plain": [
              "        x       y  Class\n",
              "0  844536  424646      0\n",
              "1  870801  476330      0\n",
              "2  878184  487392      0\n",
              "3  846693  429031      0\n",
              "4  777811  751059      0"
            ],
            "text/html": [
              "\n",
              "  <div id=\"df-99e1369c-558c-466f-a23a-ab4a303a2090\">\n",
              "    <div class=\"colab-df-container\">\n",
              "      <div>\n",
              "<style scoped>\n",
              "    .dataframe tbody tr th:only-of-type {\n",
              "        vertical-align: middle;\n",
              "    }\n",
              "\n",
              "    .dataframe tbody tr th {\n",
              "        vertical-align: top;\n",
              "    }\n",
              "\n",
              "    .dataframe thead th {\n",
              "        text-align: right;\n",
              "    }\n",
              "</style>\n",
              "<table border=\"1\" class=\"dataframe\">\n",
              "  <thead>\n",
              "    <tr style=\"text-align: right;\">\n",
              "      <th></th>\n",
              "      <th>x</th>\n",
              "      <th>y</th>\n",
              "      <th>Class</th>\n",
              "    </tr>\n",
              "  </thead>\n",
              "  <tbody>\n",
              "    <tr>\n",
              "      <th>0</th>\n",
              "      <td>844536</td>\n",
              "      <td>424646</td>\n",
              "      <td>0</td>\n",
              "    </tr>\n",
              "    <tr>\n",
              "      <th>1</th>\n",
              "      <td>870801</td>\n",
              "      <td>476330</td>\n",
              "      <td>0</td>\n",
              "    </tr>\n",
              "    <tr>\n",
              "      <th>2</th>\n",
              "      <td>878184</td>\n",
              "      <td>487392</td>\n",
              "      <td>0</td>\n",
              "    </tr>\n",
              "    <tr>\n",
              "      <th>3</th>\n",
              "      <td>846693</td>\n",
              "      <td>429031</td>\n",
              "      <td>0</td>\n",
              "    </tr>\n",
              "    <tr>\n",
              "      <th>4</th>\n",
              "      <td>777811</td>\n",
              "      <td>751059</td>\n",
              "      <td>0</td>\n",
              "    </tr>\n",
              "  </tbody>\n",
              "</table>\n",
              "</div>\n",
              "      <button class=\"colab-df-convert\" onclick=\"convertToInteractive('df-99e1369c-558c-466f-a23a-ab4a303a2090')\"\n",
              "              title=\"Convert this dataframe to an interactive table.\"\n",
              "              style=\"display:none;\">\n",
              "        \n",
              "  <svg xmlns=\"http://www.w3.org/2000/svg\" height=\"24px\"viewBox=\"0 0 24 24\"\n",
              "       width=\"24px\">\n",
              "    <path d=\"M0 0h24v24H0V0z\" fill=\"none\"/>\n",
              "    <path d=\"M18.56 5.44l.94 2.06.94-2.06 2.06-.94-2.06-.94-.94-2.06-.94 2.06-2.06.94zm-11 1L8.5 8.5l.94-2.06 2.06-.94-2.06-.94L8.5 2.5l-.94 2.06-2.06.94zm10 10l.94 2.06.94-2.06 2.06-.94-2.06-.94-.94-2.06-.94 2.06-2.06.94z\"/><path d=\"M17.41 7.96l-1.37-1.37c-.4-.4-.92-.59-1.43-.59-.52 0-1.04.2-1.43.59L10.3 9.45l-7.72 7.72c-.78.78-.78 2.05 0 2.83L4 21.41c.39.39.9.59 1.41.59.51 0 1.02-.2 1.41-.59l7.78-7.78 2.81-2.81c.8-.78.8-2.07 0-2.86zM5.41 20L4 18.59l7.72-7.72 1.47 1.35L5.41 20z\"/>\n",
              "  </svg>\n",
              "      </button>\n",
              "      \n",
              "  <style>\n",
              "    .colab-df-container {\n",
              "      display:flex;\n",
              "      flex-wrap:wrap;\n",
              "      gap: 12px;\n",
              "    }\n",
              "\n",
              "    .colab-df-convert {\n",
              "      background-color: #E8F0FE;\n",
              "      border: none;\n",
              "      border-radius: 50%;\n",
              "      cursor: pointer;\n",
              "      display: none;\n",
              "      fill: #1967D2;\n",
              "      height: 32px;\n",
              "      padding: 0 0 0 0;\n",
              "      width: 32px;\n",
              "    }\n",
              "\n",
              "    .colab-df-convert:hover {\n",
              "      background-color: #E2EBFA;\n",
              "      box-shadow: 0px 1px 2px rgba(60, 64, 67, 0.3), 0px 1px 3px 1px rgba(60, 64, 67, 0.15);\n",
              "      fill: #174EA6;\n",
              "    }\n",
              "\n",
              "    [theme=dark] .colab-df-convert {\n",
              "      background-color: #3B4455;\n",
              "      fill: #D2E3FC;\n",
              "    }\n",
              "\n",
              "    [theme=dark] .colab-df-convert:hover {\n",
              "      background-color: #434B5C;\n",
              "      box-shadow: 0px 1px 3px 1px rgba(0, 0, 0, 0.15);\n",
              "      filter: drop-shadow(0px 1px 2px rgba(0, 0, 0, 0.3));\n",
              "      fill: #FFFFFF;\n",
              "    }\n",
              "  </style>\n",
              "\n",
              "      <script>\n",
              "        const buttonEl =\n",
              "          document.querySelector('#df-99e1369c-558c-466f-a23a-ab4a303a2090 button.colab-df-convert');\n",
              "        buttonEl.style.display =\n",
              "          google.colab.kernel.accessAllowed ? 'block' : 'none';\n",
              "\n",
              "        async function convertToInteractive(key) {\n",
              "          const element = document.querySelector('#df-99e1369c-558c-466f-a23a-ab4a303a2090');\n",
              "          const dataTable =\n",
              "            await google.colab.kernel.invokeFunction('convertToInteractive',\n",
              "                                                     [key], {});\n",
              "          if (!dataTable) return;\n",
              "\n",
              "          const docLinkHtml = 'Like what you see? Visit the ' +\n",
              "            '<a target=\"_blank\" href=https://colab.research.google.com/notebooks/data_table.ipynb>data table notebook</a>'\n",
              "            + ' to learn more about interactive tables.';\n",
              "          element.innerHTML = '';\n",
              "          dataTable['output_type'] = 'display_data';\n",
              "          await google.colab.output.renderOutput(dataTable, element);\n",
              "          const docLink = document.createElement('div');\n",
              "          docLink.innerHTML = docLinkHtml;\n",
              "          element.appendChild(docLink);\n",
              "        }\n",
              "      </script>\n",
              "    </div>\n",
              "  </div>\n",
              "  "
            ]
          },
          "metadata": {},
          "execution_count": 188
        }
      ]
    },
    {
      "cell_type": "code",
      "source": [
        "from sklearn import preprocessing"
      ],
      "metadata": {
        "id": "fO1thZHxB_qb"
      },
      "execution_count": 189,
      "outputs": []
    },
    {
      "cell_type": "code",
      "source": [
        "sca = preprocessing.StandardScaler()"
      ],
      "metadata": {
        "id": "BGvGpRcrCLZX"
      },
      "execution_count": 190,
      "outputs": []
    },
    {
      "cell_type": "code",
      "source": [
        "df = sca.fit_transform(df)"
      ],
      "metadata": {
        "id": "c6ZfTJ1ZCX_Y"
      },
      "execution_count": 191,
      "outputs": []
    },
    {
      "cell_type": "code",
      "source": [
        "df = pd.DataFrame(df)"
      ],
      "metadata": {
        "id": "y4ylmVrpCixZ"
      },
      "execution_count": 192,
      "outputs": []
    },
    {
      "cell_type": "code",
      "source": [
        "df.head()"
      ],
      "metadata": {
        "colab": {
          "base_uri": "https://localhost:8080/",
          "height": 206
        },
        "id": "rgRBzxG_CfBg",
        "outputId": "b49324a6-7f85-4359-fa9f-053c0ca3f7e0"
      },
      "execution_count": 193,
      "outputs": [
        {
          "output_type": "execute_result",
          "data": {
            "text/plain": [
              "          0         1        2\n",
              "0  1.202131 -0.512126 -1.46385\n",
              "1  1.316022 -0.231879 -1.46385\n",
              "2  1.348037 -0.171897 -1.46385\n",
              "3  1.211484 -0.488349 -1.46385\n",
              "4  0.912795  1.257791 -1.46385"
            ],
            "text/html": [
              "\n",
              "  <div id=\"df-76aa7d3f-8597-49d5-9ac4-d218c2a690a8\">\n",
              "    <div class=\"colab-df-container\">\n",
              "      <div>\n",
              "<style scoped>\n",
              "    .dataframe tbody tr th:only-of-type {\n",
              "        vertical-align: middle;\n",
              "    }\n",
              "\n",
              "    .dataframe tbody tr th {\n",
              "        vertical-align: top;\n",
              "    }\n",
              "\n",
              "    .dataframe thead th {\n",
              "        text-align: right;\n",
              "    }\n",
              "</style>\n",
              "<table border=\"1\" class=\"dataframe\">\n",
              "  <thead>\n",
              "    <tr style=\"text-align: right;\">\n",
              "      <th></th>\n",
              "      <th>0</th>\n",
              "      <th>1</th>\n",
              "      <th>2</th>\n",
              "    </tr>\n",
              "  </thead>\n",
              "  <tbody>\n",
              "    <tr>\n",
              "      <th>0</th>\n",
              "      <td>1.202131</td>\n",
              "      <td>-0.512126</td>\n",
              "      <td>-1.46385</td>\n",
              "    </tr>\n",
              "    <tr>\n",
              "      <th>1</th>\n",
              "      <td>1.316022</td>\n",
              "      <td>-0.231879</td>\n",
              "      <td>-1.46385</td>\n",
              "    </tr>\n",
              "    <tr>\n",
              "      <th>2</th>\n",
              "      <td>1.348037</td>\n",
              "      <td>-0.171897</td>\n",
              "      <td>-1.46385</td>\n",
              "    </tr>\n",
              "    <tr>\n",
              "      <th>3</th>\n",
              "      <td>1.211484</td>\n",
              "      <td>-0.488349</td>\n",
              "      <td>-1.46385</td>\n",
              "    </tr>\n",
              "    <tr>\n",
              "      <th>4</th>\n",
              "      <td>0.912795</td>\n",
              "      <td>1.257791</td>\n",
              "      <td>-1.46385</td>\n",
              "    </tr>\n",
              "  </tbody>\n",
              "</table>\n",
              "</div>\n",
              "      <button class=\"colab-df-convert\" onclick=\"convertToInteractive('df-76aa7d3f-8597-49d5-9ac4-d218c2a690a8')\"\n",
              "              title=\"Convert this dataframe to an interactive table.\"\n",
              "              style=\"display:none;\">\n",
              "        \n",
              "  <svg xmlns=\"http://www.w3.org/2000/svg\" height=\"24px\"viewBox=\"0 0 24 24\"\n",
              "       width=\"24px\">\n",
              "    <path d=\"M0 0h24v24H0V0z\" fill=\"none\"/>\n",
              "    <path d=\"M18.56 5.44l.94 2.06.94-2.06 2.06-.94-2.06-.94-.94-2.06-.94 2.06-2.06.94zm-11 1L8.5 8.5l.94-2.06 2.06-.94-2.06-.94L8.5 2.5l-.94 2.06-2.06.94zm10 10l.94 2.06.94-2.06 2.06-.94-2.06-.94-.94-2.06-.94 2.06-2.06.94z\"/><path d=\"M17.41 7.96l-1.37-1.37c-.4-.4-.92-.59-1.43-.59-.52 0-1.04.2-1.43.59L10.3 9.45l-7.72 7.72c-.78.78-.78 2.05 0 2.83L4 21.41c.39.39.9.59 1.41.59.51 0 1.02-.2 1.41-.59l7.78-7.78 2.81-2.81c.8-.78.8-2.07 0-2.86zM5.41 20L4 18.59l7.72-7.72 1.47 1.35L5.41 20z\"/>\n",
              "  </svg>\n",
              "      </button>\n",
              "      \n",
              "  <style>\n",
              "    .colab-df-container {\n",
              "      display:flex;\n",
              "      flex-wrap:wrap;\n",
              "      gap: 12px;\n",
              "    }\n",
              "\n",
              "    .colab-df-convert {\n",
              "      background-color: #E8F0FE;\n",
              "      border: none;\n",
              "      border-radius: 50%;\n",
              "      cursor: pointer;\n",
              "      display: none;\n",
              "      fill: #1967D2;\n",
              "      height: 32px;\n",
              "      padding: 0 0 0 0;\n",
              "      width: 32px;\n",
              "    }\n",
              "\n",
              "    .colab-df-convert:hover {\n",
              "      background-color: #E2EBFA;\n",
              "      box-shadow: 0px 1px 2px rgba(60, 64, 67, 0.3), 0px 1px 3px 1px rgba(60, 64, 67, 0.15);\n",
              "      fill: #174EA6;\n",
              "    }\n",
              "\n",
              "    [theme=dark] .colab-df-convert {\n",
              "      background-color: #3B4455;\n",
              "      fill: #D2E3FC;\n",
              "    }\n",
              "\n",
              "    [theme=dark] .colab-df-convert:hover {\n",
              "      background-color: #434B5C;\n",
              "      box-shadow: 0px 1px 3px 1px rgba(0, 0, 0, 0.15);\n",
              "      filter: drop-shadow(0px 1px 2px rgba(0, 0, 0, 0.3));\n",
              "      fill: #FFFFFF;\n",
              "    }\n",
              "  </style>\n",
              "\n",
              "      <script>\n",
              "        const buttonEl =\n",
              "          document.querySelector('#df-76aa7d3f-8597-49d5-9ac4-d218c2a690a8 button.colab-df-convert');\n",
              "        buttonEl.style.display =\n",
              "          google.colab.kernel.accessAllowed ? 'block' : 'none';\n",
              "\n",
              "        async function convertToInteractive(key) {\n",
              "          const element = document.querySelector('#df-76aa7d3f-8597-49d5-9ac4-d218c2a690a8');\n",
              "          const dataTable =\n",
              "            await google.colab.kernel.invokeFunction('convertToInteractive',\n",
              "                                                     [key], {});\n",
              "          if (!dataTable) return;\n",
              "\n",
              "          const docLinkHtml = 'Like what you see? Visit the ' +\n",
              "            '<a target=\"_blank\" href=https://colab.research.google.com/notebooks/data_table.ipynb>data table notebook</a>'\n",
              "            + ' to learn more about interactive tables.';\n",
              "          element.innerHTML = '';\n",
              "          dataTable['output_type'] = 'display_data';\n",
              "          await google.colab.output.renderOutput(dataTable, element);\n",
              "          const docLink = document.createElement('div');\n",
              "          docLink.innerHTML = docLinkHtml;\n",
              "          element.appendChild(docLink);\n",
              "        }\n",
              "      </script>\n",
              "    </div>\n",
              "  </div>\n",
              "  "
            ]
          },
          "metadata": {},
          "execution_count": 193
        }
      ]
    },
    {
      "cell_type": "code",
      "source": [
        "df.isnull().sum()"
      ],
      "metadata": {
        "colab": {
          "base_uri": "https://localhost:8080/"
        },
        "id": "O6Ubd18XCfpY",
        "outputId": "ff72aebb-765c-4217-c4e1-9d5b54821ccf"
      },
      "execution_count": 194,
      "outputs": [
        {
          "output_type": "execute_result",
          "data": {
            "text/plain": [
              "0    0\n",
              "1    0\n",
              "2    0\n",
              "dtype: int64"
            ]
          },
          "metadata": {},
          "execution_count": 194
        }
      ]
    },
    {
      "cell_type": "code",
      "source": [
        "df.columns = [\"x\", \"y\", \"class\"]"
      ],
      "metadata": {
        "id": "BCsrl7p9ClIg"
      },
      "execution_count": 195,
      "outputs": []
    },
    {
      "cell_type": "code",
      "source": [
        "df"
      ],
      "metadata": {
        "colab": {
          "base_uri": "https://localhost:8080/",
          "height": 424
        },
        "id": "BodPq00sCpng",
        "outputId": "dd3e4707-cec6-4996-fbfe-1756327218f0"
      },
      "execution_count": 196,
      "outputs": [
        {
          "output_type": "execute_result",
          "data": {
            "text/plain": [
              "            x         y    class\n",
              "0    1.202131 -0.512126 -1.46385\n",
              "1    1.316022 -0.231879 -1.46385\n",
              "2    1.348037 -0.171897 -1.46385\n",
              "3    1.211484 -0.488349 -1.46385\n",
              "4    0.912795  1.257791 -1.46385\n",
              "..        ...       ...      ...\n",
              "475 -0.224163  0.116847  1.46385\n",
              "476  0.170157  0.299758  1.46385\n",
              "477  0.113535  0.564010  1.46385\n",
              "478  0.172482  0.414299  1.46385\n",
              "479  0.071204  0.238866  1.46385\n",
              "\n",
              "[480 rows x 3 columns]"
            ],
            "text/html": [
              "\n",
              "  <div id=\"df-21c1ce98-57ad-4c39-816a-c1a991c72548\">\n",
              "    <div class=\"colab-df-container\">\n",
              "      <div>\n",
              "<style scoped>\n",
              "    .dataframe tbody tr th:only-of-type {\n",
              "        vertical-align: middle;\n",
              "    }\n",
              "\n",
              "    .dataframe tbody tr th {\n",
              "        vertical-align: top;\n",
              "    }\n",
              "\n",
              "    .dataframe thead th {\n",
              "        text-align: right;\n",
              "    }\n",
              "</style>\n",
              "<table border=\"1\" class=\"dataframe\">\n",
              "  <thead>\n",
              "    <tr style=\"text-align: right;\">\n",
              "      <th></th>\n",
              "      <th>x</th>\n",
              "      <th>y</th>\n",
              "      <th>class</th>\n",
              "    </tr>\n",
              "  </thead>\n",
              "  <tbody>\n",
              "    <tr>\n",
              "      <th>0</th>\n",
              "      <td>1.202131</td>\n",
              "      <td>-0.512126</td>\n",
              "      <td>-1.46385</td>\n",
              "    </tr>\n",
              "    <tr>\n",
              "      <th>1</th>\n",
              "      <td>1.316022</td>\n",
              "      <td>-0.231879</td>\n",
              "      <td>-1.46385</td>\n",
              "    </tr>\n",
              "    <tr>\n",
              "      <th>2</th>\n",
              "      <td>1.348037</td>\n",
              "      <td>-0.171897</td>\n",
              "      <td>-1.46385</td>\n",
              "    </tr>\n",
              "    <tr>\n",
              "      <th>3</th>\n",
              "      <td>1.211484</td>\n",
              "      <td>-0.488349</td>\n",
              "      <td>-1.46385</td>\n",
              "    </tr>\n",
              "    <tr>\n",
              "      <th>4</th>\n",
              "      <td>0.912795</td>\n",
              "      <td>1.257791</td>\n",
              "      <td>-1.46385</td>\n",
              "    </tr>\n",
              "    <tr>\n",
              "      <th>...</th>\n",
              "      <td>...</td>\n",
              "      <td>...</td>\n",
              "      <td>...</td>\n",
              "    </tr>\n",
              "    <tr>\n",
              "      <th>475</th>\n",
              "      <td>-0.224163</td>\n",
              "      <td>0.116847</td>\n",
              "      <td>1.46385</td>\n",
              "    </tr>\n",
              "    <tr>\n",
              "      <th>476</th>\n",
              "      <td>0.170157</td>\n",
              "      <td>0.299758</td>\n",
              "      <td>1.46385</td>\n",
              "    </tr>\n",
              "    <tr>\n",
              "      <th>477</th>\n",
              "      <td>0.113535</td>\n",
              "      <td>0.564010</td>\n",
              "      <td>1.46385</td>\n",
              "    </tr>\n",
              "    <tr>\n",
              "      <th>478</th>\n",
              "      <td>0.172482</td>\n",
              "      <td>0.414299</td>\n",
              "      <td>1.46385</td>\n",
              "    </tr>\n",
              "    <tr>\n",
              "      <th>479</th>\n",
              "      <td>0.071204</td>\n",
              "      <td>0.238866</td>\n",
              "      <td>1.46385</td>\n",
              "    </tr>\n",
              "  </tbody>\n",
              "</table>\n",
              "<p>480 rows × 3 columns</p>\n",
              "</div>\n",
              "      <button class=\"colab-df-convert\" onclick=\"convertToInteractive('df-21c1ce98-57ad-4c39-816a-c1a991c72548')\"\n",
              "              title=\"Convert this dataframe to an interactive table.\"\n",
              "              style=\"display:none;\">\n",
              "        \n",
              "  <svg xmlns=\"http://www.w3.org/2000/svg\" height=\"24px\"viewBox=\"0 0 24 24\"\n",
              "       width=\"24px\">\n",
              "    <path d=\"M0 0h24v24H0V0z\" fill=\"none\"/>\n",
              "    <path d=\"M18.56 5.44l.94 2.06.94-2.06 2.06-.94-2.06-.94-.94-2.06-.94 2.06-2.06.94zm-11 1L8.5 8.5l.94-2.06 2.06-.94-2.06-.94L8.5 2.5l-.94 2.06-2.06.94zm10 10l.94 2.06.94-2.06 2.06-.94-2.06-.94-.94-2.06-.94 2.06-2.06.94z\"/><path d=\"M17.41 7.96l-1.37-1.37c-.4-.4-.92-.59-1.43-.59-.52 0-1.04.2-1.43.59L10.3 9.45l-7.72 7.72c-.78.78-.78 2.05 0 2.83L4 21.41c.39.39.9.59 1.41.59.51 0 1.02-.2 1.41-.59l7.78-7.78 2.81-2.81c.8-.78.8-2.07 0-2.86zM5.41 20L4 18.59l7.72-7.72 1.47 1.35L5.41 20z\"/>\n",
              "  </svg>\n",
              "      </button>\n",
              "      \n",
              "  <style>\n",
              "    .colab-df-container {\n",
              "      display:flex;\n",
              "      flex-wrap:wrap;\n",
              "      gap: 12px;\n",
              "    }\n",
              "\n",
              "    .colab-df-convert {\n",
              "      background-color: #E8F0FE;\n",
              "      border: none;\n",
              "      border-radius: 50%;\n",
              "      cursor: pointer;\n",
              "      display: none;\n",
              "      fill: #1967D2;\n",
              "      height: 32px;\n",
              "      padding: 0 0 0 0;\n",
              "      width: 32px;\n",
              "    }\n",
              "\n",
              "    .colab-df-convert:hover {\n",
              "      background-color: #E2EBFA;\n",
              "      box-shadow: 0px 1px 2px rgba(60, 64, 67, 0.3), 0px 1px 3px 1px rgba(60, 64, 67, 0.15);\n",
              "      fill: #174EA6;\n",
              "    }\n",
              "\n",
              "    [theme=dark] .colab-df-convert {\n",
              "      background-color: #3B4455;\n",
              "      fill: #D2E3FC;\n",
              "    }\n",
              "\n",
              "    [theme=dark] .colab-df-convert:hover {\n",
              "      background-color: #434B5C;\n",
              "      box-shadow: 0px 1px 3px 1px rgba(0, 0, 0, 0.15);\n",
              "      filter: drop-shadow(0px 1px 2px rgba(0, 0, 0, 0.3));\n",
              "      fill: #FFFFFF;\n",
              "    }\n",
              "  </style>\n",
              "\n",
              "      <script>\n",
              "        const buttonEl =\n",
              "          document.querySelector('#df-21c1ce98-57ad-4c39-816a-c1a991c72548 button.colab-df-convert');\n",
              "        buttonEl.style.display =\n",
              "          google.colab.kernel.accessAllowed ? 'block' : 'none';\n",
              "\n",
              "        async function convertToInteractive(key) {\n",
              "          const element = document.querySelector('#df-21c1ce98-57ad-4c39-816a-c1a991c72548');\n",
              "          const dataTable =\n",
              "            await google.colab.kernel.invokeFunction('convertToInteractive',\n",
              "                                                     [key], {});\n",
              "          if (!dataTable) return;\n",
              "\n",
              "          const docLinkHtml = 'Like what you see? Visit the ' +\n",
              "            '<a target=\"_blank\" href=https://colab.research.google.com/notebooks/data_table.ipynb>data table notebook</a>'\n",
              "            + ' to learn more about interactive tables.';\n",
              "          element.innerHTML = '';\n",
              "          dataTable['output_type'] = 'display_data';\n",
              "          await google.colab.output.renderOutput(dataTable, element);\n",
              "          const docLink = document.createElement('div');\n",
              "          docLink.innerHTML = docLinkHtml;\n",
              "          element.appendChild(docLink);\n",
              "        }\n",
              "      </script>\n",
              "    </div>\n",
              "  </div>\n",
              "  "
            ]
          },
          "metadata": {},
          "execution_count": 196
        }
      ]
    },
    {
      "cell_type": "code",
      "source": [
        "from sklearn.cluster import DBSCAN"
      ],
      "metadata": {
        "id": "7NxAxerhCss3"
      },
      "execution_count": 197,
      "outputs": []
    },
    {
      "cell_type": "code",
      "source": [
        "df = df.iloc[:, 0:2]"
      ],
      "metadata": {
        "id": "rOFyMfVsCwAw"
      },
      "execution_count": 198,
      "outputs": []
    },
    {
      "cell_type": "code",
      "source": [
        "df"
      ],
      "metadata": {
        "colab": {
          "base_uri": "https://localhost:8080/",
          "height": 424
        },
        "id": "T3JZ4KaiC1aH",
        "outputId": "bec9c079-27f7-4963-e8c3-9229407331d1"
      },
      "execution_count": 199,
      "outputs": [
        {
          "output_type": "execute_result",
          "data": {
            "text/plain": [
              "            x         y\n",
              "0    1.202131 -0.512126\n",
              "1    1.316022 -0.231879\n",
              "2    1.348037 -0.171897\n",
              "3    1.211484 -0.488349\n",
              "4    0.912795  1.257791\n",
              "..        ...       ...\n",
              "475 -0.224163  0.116847\n",
              "476  0.170157  0.299758\n",
              "477  0.113535  0.564010\n",
              "478  0.172482  0.414299\n",
              "479  0.071204  0.238866\n",
              "\n",
              "[480 rows x 2 columns]"
            ],
            "text/html": [
              "\n",
              "  <div id=\"df-e6623568-d458-47ce-a609-12630200193b\">\n",
              "    <div class=\"colab-df-container\">\n",
              "      <div>\n",
              "<style scoped>\n",
              "    .dataframe tbody tr th:only-of-type {\n",
              "        vertical-align: middle;\n",
              "    }\n",
              "\n",
              "    .dataframe tbody tr th {\n",
              "        vertical-align: top;\n",
              "    }\n",
              "\n",
              "    .dataframe thead th {\n",
              "        text-align: right;\n",
              "    }\n",
              "</style>\n",
              "<table border=\"1\" class=\"dataframe\">\n",
              "  <thead>\n",
              "    <tr style=\"text-align: right;\">\n",
              "      <th></th>\n",
              "      <th>x</th>\n",
              "      <th>y</th>\n",
              "    </tr>\n",
              "  </thead>\n",
              "  <tbody>\n",
              "    <tr>\n",
              "      <th>0</th>\n",
              "      <td>1.202131</td>\n",
              "      <td>-0.512126</td>\n",
              "    </tr>\n",
              "    <tr>\n",
              "      <th>1</th>\n",
              "      <td>1.316022</td>\n",
              "      <td>-0.231879</td>\n",
              "    </tr>\n",
              "    <tr>\n",
              "      <th>2</th>\n",
              "      <td>1.348037</td>\n",
              "      <td>-0.171897</td>\n",
              "    </tr>\n",
              "    <tr>\n",
              "      <th>3</th>\n",
              "      <td>1.211484</td>\n",
              "      <td>-0.488349</td>\n",
              "    </tr>\n",
              "    <tr>\n",
              "      <th>4</th>\n",
              "      <td>0.912795</td>\n",
              "      <td>1.257791</td>\n",
              "    </tr>\n",
              "    <tr>\n",
              "      <th>...</th>\n",
              "      <td>...</td>\n",
              "      <td>...</td>\n",
              "    </tr>\n",
              "    <tr>\n",
              "      <th>475</th>\n",
              "      <td>-0.224163</td>\n",
              "      <td>0.116847</td>\n",
              "    </tr>\n",
              "    <tr>\n",
              "      <th>476</th>\n",
              "      <td>0.170157</td>\n",
              "      <td>0.299758</td>\n",
              "    </tr>\n",
              "    <tr>\n",
              "      <th>477</th>\n",
              "      <td>0.113535</td>\n",
              "      <td>0.564010</td>\n",
              "    </tr>\n",
              "    <tr>\n",
              "      <th>478</th>\n",
              "      <td>0.172482</td>\n",
              "      <td>0.414299</td>\n",
              "    </tr>\n",
              "    <tr>\n",
              "      <th>479</th>\n",
              "      <td>0.071204</td>\n",
              "      <td>0.238866</td>\n",
              "    </tr>\n",
              "  </tbody>\n",
              "</table>\n",
              "<p>480 rows × 2 columns</p>\n",
              "</div>\n",
              "      <button class=\"colab-df-convert\" onclick=\"convertToInteractive('df-e6623568-d458-47ce-a609-12630200193b')\"\n",
              "              title=\"Convert this dataframe to an interactive table.\"\n",
              "              style=\"display:none;\">\n",
              "        \n",
              "  <svg xmlns=\"http://www.w3.org/2000/svg\" height=\"24px\"viewBox=\"0 0 24 24\"\n",
              "       width=\"24px\">\n",
              "    <path d=\"M0 0h24v24H0V0z\" fill=\"none\"/>\n",
              "    <path d=\"M18.56 5.44l.94 2.06.94-2.06 2.06-.94-2.06-.94-.94-2.06-.94 2.06-2.06.94zm-11 1L8.5 8.5l.94-2.06 2.06-.94-2.06-.94L8.5 2.5l-.94 2.06-2.06.94zm10 10l.94 2.06.94-2.06 2.06-.94-2.06-.94-.94-2.06-.94 2.06-2.06.94z\"/><path d=\"M17.41 7.96l-1.37-1.37c-.4-.4-.92-.59-1.43-.59-.52 0-1.04.2-1.43.59L10.3 9.45l-7.72 7.72c-.78.78-.78 2.05 0 2.83L4 21.41c.39.39.9.59 1.41.59.51 0 1.02-.2 1.41-.59l7.78-7.78 2.81-2.81c.8-.78.8-2.07 0-2.86zM5.41 20L4 18.59l7.72-7.72 1.47 1.35L5.41 20z\"/>\n",
              "  </svg>\n",
              "      </button>\n",
              "      \n",
              "  <style>\n",
              "    .colab-df-container {\n",
              "      display:flex;\n",
              "      flex-wrap:wrap;\n",
              "      gap: 12px;\n",
              "    }\n",
              "\n",
              "    .colab-df-convert {\n",
              "      background-color: #E8F0FE;\n",
              "      border: none;\n",
              "      border-radius: 50%;\n",
              "      cursor: pointer;\n",
              "      display: none;\n",
              "      fill: #1967D2;\n",
              "      height: 32px;\n",
              "      padding: 0 0 0 0;\n",
              "      width: 32px;\n",
              "    }\n",
              "\n",
              "    .colab-df-convert:hover {\n",
              "      background-color: #E2EBFA;\n",
              "      box-shadow: 0px 1px 2px rgba(60, 64, 67, 0.3), 0px 1px 3px 1px rgba(60, 64, 67, 0.15);\n",
              "      fill: #174EA6;\n",
              "    }\n",
              "\n",
              "    [theme=dark] .colab-df-convert {\n",
              "      background-color: #3B4455;\n",
              "      fill: #D2E3FC;\n",
              "    }\n",
              "\n",
              "    [theme=dark] .colab-df-convert:hover {\n",
              "      background-color: #434B5C;\n",
              "      box-shadow: 0px 1px 3px 1px rgba(0, 0, 0, 0.15);\n",
              "      filter: drop-shadow(0px 1px 2px rgba(0, 0, 0, 0.3));\n",
              "      fill: #FFFFFF;\n",
              "    }\n",
              "  </style>\n",
              "\n",
              "      <script>\n",
              "        const buttonEl =\n",
              "          document.querySelector('#df-e6623568-d458-47ce-a609-12630200193b button.colab-df-convert');\n",
              "        buttonEl.style.display =\n",
              "          google.colab.kernel.accessAllowed ? 'block' : 'none';\n",
              "\n",
              "        async function convertToInteractive(key) {\n",
              "          const element = document.querySelector('#df-e6623568-d458-47ce-a609-12630200193b');\n",
              "          const dataTable =\n",
              "            await google.colab.kernel.invokeFunction('convertToInteractive',\n",
              "                                                     [key], {});\n",
              "          if (!dataTable) return;\n",
              "\n",
              "          const docLinkHtml = 'Like what you see? Visit the ' +\n",
              "            '<a target=\"_blank\" href=https://colab.research.google.com/notebooks/data_table.ipynb>data table notebook</a>'\n",
              "            + ' to learn more about interactive tables.';\n",
              "          element.innerHTML = '';\n",
              "          dataTable['output_type'] = 'display_data';\n",
              "          await google.colab.output.renderOutput(dataTable, element);\n",
              "          const docLink = document.createElement('div');\n",
              "          docLink.innerHTML = docLinkHtml;\n",
              "          element.appendChild(docLink);\n",
              "        }\n",
              "      </script>\n",
              "    </div>\n",
              "  </div>\n",
              "  "
            ]
          },
          "metadata": {},
          "execution_count": 199
        }
      ]
    },
    {
      "cell_type": "markdown",
      "source": [
        "DBSCAN\n"
      ],
      "metadata": {
        "id": "-xSocD4_D6bY"
      }
    },
    {
      "cell_type": "code",
      "source": [
        "dbs = DBSCAN(eps = 0.2, min_samples = 5, metric = 'euclidean').fit(df)"
      ],
      "metadata": {
        "id": "vM-s67KeC15X"
      },
      "execution_count": 276,
      "outputs": []
    },
    {
      "cell_type": "code",
      "source": [
        "dbs"
      ],
      "metadata": {
        "colab": {
          "base_uri": "https://localhost:8080/"
        },
        "id": "B0nc1VANDCPz",
        "outputId": "119b6dda-e362-4822-9782-b496098acf25"
      },
      "execution_count": 277,
      "outputs": [
        {
          "output_type": "execute_result",
          "data": {
            "text/plain": [
              "DBSCAN(eps=0.2)"
            ]
          },
          "metadata": {},
          "execution_count": 277
        }
      ]
    },
    {
      "cell_type": "code",
      "source": [
        "dbs.labels_"
      ],
      "metadata": {
        "colab": {
          "base_uri": "https://localhost:8080/"
        },
        "id": "4rgKL-DcDDt0",
        "outputId": "bdb40c0b-b00a-4958-8b89-fc9ba45e9e63"
      },
      "execution_count": 278,
      "outputs": [
        {
          "output_type": "execute_result",
          "data": {
            "text/plain": [
              "array([ 4, -1, -1, -1,  0,  0,  0,  0,  0,  0,  0,  0,  0,  0,  0,  0,  0,\n",
              "        0,  0,  0,  0,  0,  0,  0,  0,  0,  0,  0,  0,  0,  0,  0,  0,  0,\n",
              "        0,  0,  0,  0,  0,  0,  0,  0,  0,  0,  0,  0,  0,  0,  0,  0,  0,\n",
              "        0,  0,  0,  0,  0,  0,  0,  0,  0,  0,  0,  0,  0,  0,  0,  0,  0,\n",
              "        0,  0,  0,  0,  0,  0,  0,  0,  0,  0,  0,  0,  1,  1,  1,  1,  1,\n",
              "        1,  1,  1,  1,  1,  1,  1,  1,  1,  1,  1,  1,  1,  1,  1,  1,  1,\n",
              "        1,  1,  1,  1,  1,  1,  1,  1,  1,  1,  1,  1,  1,  1,  1,  1,  1,\n",
              "        1,  1,  1,  1,  1,  1,  1,  1,  1,  1,  1,  1,  1,  1,  1,  1,  1,\n",
              "        1,  1,  1,  1,  1,  1,  1,  1,  1,  1,  1,  1,  1,  1,  1,  1,  1,\n",
              "        1,  1,  1,  1,  1,  1,  1,  2,  2,  2,  2,  2,  2,  2,  2,  2,  2,\n",
              "        2,  2,  2,  2,  2,  2,  2,  2,  2,  2,  2,  2,  2,  2,  2,  2,  2,\n",
              "        2,  2,  2,  2,  2,  2,  2,  2,  2,  2,  2,  2,  2,  2,  2,  2,  2,\n",
              "        2,  2,  2,  2,  2,  2,  2,  2,  2,  2,  2,  2,  2,  2,  2,  2,  2,\n",
              "        2,  2,  2,  2,  2,  2,  2,  2,  2,  2,  2,  2,  2,  2,  2,  2,  2,\n",
              "        2,  2,  3,  3,  3,  3,  3,  3,  3,  3,  3,  3,  3,  3,  3,  3,  3,\n",
              "        3,  3,  3,  3,  3,  3,  3,  3,  3,  3,  3,  3,  3,  3,  3,  3,  3,\n",
              "        3,  3,  3,  3,  3,  3,  3,  3,  3,  3,  3,  3,  3,  3,  3,  3,  3,\n",
              "        3,  3,  3,  3,  3,  3,  3,  3,  3,  3,  3,  3,  3,  3,  3,  3,  3,\n",
              "        3,  3,  3,  3,  3,  3,  3,  3,  3,  3,  3,  3,  3, -1,  4,  4,  4,\n",
              "        4,  4,  4,  4,  4,  4,  4,  4,  4,  4,  4,  4,  4,  4,  4,  4,  4,\n",
              "        4,  4,  4,  4,  4,  4,  4,  4,  4,  4,  4,  4,  4,  4,  4,  4,  4,\n",
              "        4,  4,  4,  4,  4,  4,  4,  4,  4,  4,  4,  4,  4,  4,  4,  4,  4,\n",
              "        4,  4,  4,  4,  4,  4,  4,  4,  4,  4,  4,  4,  4,  4,  4,  4,  4,\n",
              "        4,  4,  4,  4,  4,  4,  4,  4,  4,  5,  5,  5,  5,  5,  5,  5,  5,\n",
              "        5,  5,  5,  5,  5,  5,  5,  5,  5,  5,  5,  5,  5,  5,  5,  5,  5,\n",
              "        5,  5,  5,  5,  5,  5,  5,  5,  5,  5,  5,  5,  5,  5,  5,  5,  5,\n",
              "        5,  5,  5,  5,  5,  5,  5,  5,  5,  5, -1,  5,  5,  5,  5,  5,  5,\n",
              "        5,  5,  5,  5,  5,  5,  5,  5,  5,  5,  5,  5,  5,  5,  5,  5,  5,\n",
              "        5,  5,  5,  5])"
            ]
          },
          "metadata": {},
          "execution_count": 278
        }
      ]
    },
    {
      "cell_type": "code",
      "source": [
        "import matplotlib.pyplot as plt\n",
        "X0 = df[db.labels_ == 0]\n",
        "plt.scatter(X0.iloc[:, 0], X0.iloc[:, 1], c = 'purple')\n",
        "X1 = df[db.labels_ == 1]\n",
        "plt.scatter(X1.iloc[:, 0], X1.iloc[:, 1], c = 'green')\n",
        "X2 = df[db.labels_ == 2]\n",
        "plt.scatter(X2.iloc[:, 0], X2.iloc[:, 1], c = 'red')\n",
        "X3 = df[db.labels_ == 3]\n",
        "plt.scatter(X3.iloc[:, 0], X3.iloc[:, 1], c = 'yellow')\n",
        "X4 = df[db.labels_ == 4]\n",
        "plt.scatter(X4.iloc[:, 0], X4.iloc[:, 1], c = 'blue')\n",
        "X5 = df[db.labels_ == 5]\n",
        "plt.scatter(X5.iloc[:, 0], X5.iloc[:, 1], c = 'brown')"
      ],
      "metadata": {
        "colab": {
          "base_uri": "https://localhost:8080/",
          "height": 282
        },
        "id": "-C34bj7sDFPz",
        "outputId": "2306315d-29fd-47de-89af-911bd3b74bd1"
      },
      "execution_count": 279,
      "outputs": [
        {
          "output_type": "execute_result",
          "data": {
            "text/plain": [
              "<matplotlib.collections.PathCollection at 0x7f4fd1f94ed0>"
            ]
          },
          "metadata": {},
          "execution_count": 279
        },
        {
          "output_type": "display_data",
          "data": {
            "text/plain": [
              "<Figure size 432x288 with 1 Axes>"
            ],
            "image/png": "[encoded data removed]"
          },
          "metadata": {
            "needs_background": "light"
          }
        }
      ]
    },
    {
      "cell_type": "code",
      "source": [
        "X6 = df[db.labels_ == -1]\n",
        "plt.scatter(X6.iloc[:, 0], X6.iloc[:, 1], c = 'black')"
      ],
      "metadata": {
        "colab": {
          "base_uri": "https://localhost:8080/",
          "height": 284
        },
        "id": "T4YxkGC6DiFv",
        "outputId": "a0d82cc6-15de-4b04-9548-42158eb5440f"
      },
      "execution_count": 280,
      "outputs": [
        {
          "output_type": "execute_result",
          "data": {
            "text/plain": [
              "<matplotlib.collections.PathCollection at 0x7f4fd1f94e10>"
            ]
          },
          "metadata": {},
          "execution_count": 280
        },
        {
          "output_type": "display_data",
          "data": {
            "text/plain": [
              "<Figure size 432x288 with 1 Axes>"
            ],
            "image/png": "[encoded data removed]"
          },
          "metadata": {
            "needs_background": "light"
          }
        }
      ]
    },
    {
      "cell_type": "markdown",
      "source": [
        "Agglomerative using ward, S-Link and C-Link\n"
      ],
      "metadata": {
        "id": "6syJvvJSD91A"
      }
    },
    {
      "cell_type": "code",
      "source": [
        "plt.figure(figsize = (8, 8))"
      ],
      "metadata": {
        "colab": {
          "base_uri": "https://localhost:8080/",
          "height": 52
        },
        "id": "NkhqAcK-DuBP",
        "outputId": "a83fbce7-dd9c-4400-e59c-3b36172bc9f7"
      },
      "execution_count": 205,
      "outputs": [
        {
          "output_type": "execute_result",
          "data": {
            "text/plain": [
              "<Figure size 576x576 with 0 Axes>"
            ]
          },
          "metadata": {},
          "execution_count": 205
        },
        {
          "output_type": "display_data",
          "data": {
            "text/plain": [
              "<Figure size 576x576 with 0 Axes>"
            ]
          },
          "metadata": {}
        }
      ]
    },
    {
      "cell_type": "code",
      "source": [
        "from sklearn.cluster import AgglomerativeClustering\n",
        "import scipy.cluster.hierarchy as shc\n",
        "plt.title(\"Visualizing the data\")\n",
        "dendrogram = shc.dendrogram(shc.linkage(df, method = \"single\"))"
      ],
      "metadata": {
        "colab": {
          "base_uri": "https://localhost:8080/",
          "height": 281
        },
        "id": "D8tBHHUUEHdI",
        "outputId": "b95ef120-b3dd-404a-d1db-a347d896ab41"
      },
      "execution_count": 206,
      "outputs": [
        {
          "output_type": "display_data",
          "data": {
            "text/plain": [
              "<Figure size 432x288 with 1 Axes>"
            ],
            "image/png": "[encoded data removed]"
          },
          "metadata": {
            "needs_background": "light"
          }
        }
      ]
    },
    {
      "cell_type": "code",
      "source": [
        "\n",
        "single = AgglomerativeClustering(n_clusters = 6, linkage = \"single\")"
      ],
      "metadata": {
        "id": "XXQwqzMxENy3"
      },
      "execution_count": 207,
      "outputs": []
    },
    {
      "cell_type": "code",
      "source": [
        "plt.scatter(df[\"x\"], df[\"y\"], c = single.fit_predict(df), cmap = \"rainbow\")"
      ],
      "metadata": {
        "colab": {
          "base_uri": "https://localhost:8080/",
          "height": 282
        },
        "id": "aB0alp3cEPY_",
        "outputId": "f25e96ae-3a91-4712-a77d-5016afa97806"
      },
      "execution_count": 208,
      "outputs": [
        {
          "output_type": "execute_result",
          "data": {
            "text/plain": [
              "<matplotlib.collections.PathCollection at 0x7f5009a2ef10>"
            ]
          },
          "metadata": {},
          "execution_count": 208
        },
        {
          "output_type": "display_data",
          "data": {
            "text/plain": [
              "<Figure size 432x288 with 1 Axes>"
            ],
            "image/png": "[encoded data removed]"
          },
          "metadata": {
            "needs_background": "light"
          }
        }
      ]
    },
    {
      "cell_type": "code",
      "source": [
        "ward = AgglomerativeClustering(n_clusters = 6, linkage = \"ward\")\n",
        "plt.figure(figsize = (6, 6))\n",
        "plt.scatter(df[\"x\"], df[\"y\"], c = ward.fit_predict(df), cmap = \"rainbow\")\n",
        "\n",
        "plt.figure(figsize = (8, 8))\n",
        "plt.title(\"Visualizing the data\")\n",
        "dendrogram = shc.dendrogram(shc.linkage(df, method = \"ward\"))"
      ],
      "metadata": {
        "colab": {
          "base_uri": "https://localhost:8080/",
          "height": 855
        },
        "id": "xAr0fIOdEouv",
        "outputId": "5e6bdb9a-7030-4e1d-86a5-699ddcb739d9"
      },
      "execution_count": 209,
      "outputs": [
        {
          "output_type": "display_data",
          "data": {
            "text/plain": [
              "<Figure size 432x432 with 1 Axes>"
            ],
            "image/png": "[encoded data removed]"
          },
          "metadata": {
            "needs_background": "light"
          }
        },
        {
          "output_type": "display_data",
          "data": {
            "text/plain": [
              "<Figure size 576x576 with 1 Axes>"
            ],
            "image/png": "[encoded data removed]"
          },
          "metadata": {
            "needs_background": "light"
          }
        }
      ]
    },
    {
      "cell_type": "code",
      "source": [
        "complete = AgglomerativeClustering(n_clusters = 6, linkage = \"complete\")\n",
        "plt.figure(figsize = (6, 6))\n",
        "plt.scatter(df[\"x\"], df[\"y\"], c = complete.fit_predict(df), cmap = \"rainbow\")\n",
        "\n",
        "plt.figure(figsize = (8, 8))\n",
        "plt.title(\"Visualizing the data\")\n",
        "dendrogram = shc.dendrogram(shc.linkage(df, method = \"complete\"))"
      ],
      "metadata": {
        "colab": {
          "base_uri": "https://localhost:8080/",
          "height": 855
        },
        "id": "gYUgzlhRFKD_",
        "outputId": "9f3aa2eb-cdba-4110-b9ec-ac428c84cad2"
      },
      "execution_count": 210,
      "outputs": [
        {
          "output_type": "display_data",
          "data": {
            "text/plain": [
              "<Figure size 432x432 with 1 Axes>"
            ],
            "image/png": "[encoded data removed]"
          },
          "metadata": {
            "needs_background": "light"
          }
        },
        {
          "output_type": "display_data",
          "data": {
            "text/plain": [
              "<Figure size 576x576 with 1 Axes>"
            ],
            "image/png": "[encoded data removed]"
          },
          "metadata": {
            "needs_background": "light"
          }
        }
      ]
    },
    {
      "cell_type": "code",
      "source": [
        "from sklearn.cluster import KMeans"
      ],
      "metadata": {
        "id": "NJ5YVVOyHilH"
      },
      "execution_count": 211,
      "outputs": []
    },
    {
      "cell_type": "code",
      "source": [
        "kmeans = KMeans(init = \"random\", n_clusters = 6, random_state = 42, n_init = 10, max_iter = 300)\n",
        "kmeans.fit(df)\n",
        "y_kmeans = kmeans.fit_predict(df)"
      ],
      "metadata": {
        "id": "IUiRMqtVHqsH"
      },
      "execution_count": 212,
      "outputs": []
    },
    {
      "cell_type": "code",
      "source": [
        "y_kmeans"
      ],
      "metadata": {
        "colab": {
          "base_uri": "https://localhost:8080/"
        },
        "id": "MsaGBO8OH1hf",
        "outputId": "ca5934b0-41b7-43a0-9a09-3c536d3bde55"
      },
      "execution_count": 213,
      "outputs": [
        {
          "output_type": "execute_result",
          "data": {
            "text/plain": [
              "array([4, 4, 4, 4, 0, 0, 0, 0, 0, 0, 0, 0, 0, 0, 0, 0, 0, 0, 0, 0, 0, 0,\n",
              "       0, 0, 0, 0, 0, 0, 0, 0, 0, 0, 0, 0, 0, 0, 0, 0, 0, 0, 0, 0, 0, 0,\n",
              "       0, 0, 0, 0, 0, 0, 0, 0, 0, 0, 0, 0, 0, 0, 0, 0, 0, 0, 0, 0, 0, 0,\n",
              "       0, 0, 0, 0, 0, 0, 0, 0, 0, 0, 0, 0, 0, 0, 5, 5, 5, 5, 5, 5, 5, 5,\n",
              "       5, 5, 5, 5, 5, 5, 5, 5, 5, 5, 5, 5, 5, 5, 5, 5, 5, 5, 5, 5, 5, 5,\n",
              "       5, 5, 5, 5, 5, 5, 5, 5, 5, 5, 5, 5, 5, 5, 5, 5, 5, 5, 5, 5, 5, 5,\n",
              "       5, 5, 5, 5, 5, 5, 5, 5, 5, 5, 5, 5, 5, 5, 5, 5, 5, 5, 5, 5, 5, 5,\n",
              "       5, 5, 5, 5, 5, 5, 2, 2, 2, 2, 2, 2, 2, 2, 2, 2, 2, 2, 2, 2, 2, 2,\n",
              "       2, 2, 2, 2, 2, 2, 2, 2, 2, 2, 2, 2, 2, 2, 2, 2, 2, 2, 2, 2, 2, 2,\n",
              "       2, 2, 2, 2, 2, 2, 2, 2, 2, 2, 2, 2, 2, 2, 2, 2, 2, 2, 2, 2, 2, 2,\n",
              "       2, 2, 2, 2, 2, 2, 2, 2, 2, 2, 2, 2, 2, 2, 2, 2, 2, 2, 2, 2, 3, 3,\n",
              "       3, 3, 3, 3, 3, 3, 3, 3, 3, 3, 3, 3, 3, 3, 3, 3, 3, 3, 3, 3, 3, 3,\n",
              "       3, 3, 3, 3, 3, 3, 3, 3, 3, 3, 3, 3, 3, 3, 3, 3, 3, 3, 3, 3, 3, 3,\n",
              "       3, 3, 3, 3, 3, 3, 3, 3, 3, 3, 3, 3, 3, 3, 3, 3, 3, 3, 3, 3, 3, 3,\n",
              "       3, 3, 3, 3, 3, 3, 3, 3, 3, 3, 3, 1, 4, 4, 4, 4, 4, 4, 4, 4, 4, 4,\n",
              "       4, 4, 4, 4, 4, 4, 4, 4, 4, 4, 4, 4, 4, 4, 4, 4, 4, 4, 4, 4, 4, 4,\n",
              "       4, 4, 4, 4, 4, 4, 4, 4, 4, 4, 4, 4, 4, 4, 4, 4, 4, 4, 4, 4, 4, 4,\n",
              "       4, 4, 4, 4, 4, 4, 4, 4, 4, 4, 4, 4, 4, 4, 4, 4, 4, 4, 4, 4, 4, 4,\n",
              "       4, 4, 4, 4, 1, 1, 1, 1, 1, 1, 1, 1, 1, 1, 1, 1, 1, 1, 1, 1, 1, 1,\n",
              "       1, 1, 1, 1, 1, 1, 1, 1, 1, 1, 1, 1, 1, 1, 1, 1, 1, 1, 1, 1, 1, 1,\n",
              "       1, 1, 1, 1, 1, 1, 1, 1, 1, 1, 1, 1, 1, 1, 1, 1, 1, 1, 1, 1, 1, 1,\n",
              "       1, 1, 1, 1, 1, 1, 1, 1, 1, 1, 1, 1, 1, 1, 1, 1, 1, 1], dtype=int32)"
            ]
          },
          "metadata": {},
          "execution_count": 213
        }
      ]
    },
    {
      "cell_type": "code",
      "source": [
        "X0 = df[y_kmeans == 0]\n",
        "X1 = df[y_kmeans == 1]\n",
        "X2 = df[y_kmeans == 2]\n",
        "X3 = df[y_kmeans == 3]\n",
        "X4 = df[y_kmeans == 4]\n",
        "X5 = df[y_kmeans == 5]"
      ],
      "metadata": {
        "id": "llIItpYoH743"
      },
      "execution_count": 214,
      "outputs": []
    },
    {
      "cell_type": "code",
      "source": [
        "plt.scatter(X0.iloc[:, 0], X0.iloc[:, 1], c = 'purple')\n",
        "plt.scatter(X1.iloc[:, 0], X1.iloc[:, 1], c = 'red')\n",
        "plt.scatter(X2.iloc[:, 0], X2.iloc[:, 1], c = 'blue')\n",
        "plt.scatter(X3.iloc[:, 0], X3.iloc[:, 1], c = 'green')\n",
        "plt.scatter(X4.iloc[:, 0], X4.iloc[:, 1], c = 'yellow')\n",
        "plt.scatter(X5.iloc[:, 0], X5.iloc[:, 1], c = 'orange')"
      ],
      "metadata": {
        "colab": {
          "base_uri": "https://localhost:8080/",
          "height": 282
        },
        "id": "3KBDp7pkID2x",
        "outputId": "470453f4-1580-404c-c1d5-05c2c34755fa"
      },
      "execution_count": 215,
      "outputs": [
        {
          "output_type": "execute_result",
          "data": {
            "text/plain": [
              "<matplotlib.collections.PathCollection at 0x7f500d878f50>"
            ]
          },
          "metadata": {},
          "execution_count": 215
        },
        {
          "output_type": "display_data",
          "data": {
            "text/plain": [
              "<Figure size 432x288 with 1 Axes>"
            ],
            "image/png": "[encoded data removed]"
          },
          "metadata": {
            "needs_background": "light"
          }
        }
      ]
    },
    {
      "cell_type": "code",
      "source": [
        "dbscan = metrics.silhouette_samples(df, dbs.labels_, metric = 'euclidean')"
      ],
      "metadata": {
        "id": "XD4vjZ0MIOzJ"
      },
      "execution_count": 281,
      "outputs": []
    },
    {
      "cell_type": "code",
      "source": [
        "dbscan\n",
        "dbscan.mean()"
      ],
      "metadata": {
        "colab": {
          "base_uri": "https://localhost:8080/"
        },
        "id": "_hPWULZZIqe4",
        "outputId": "60a0ac9e-28ae-4db9-c1a8-4020d38d9873"
      },
      "execution_count": 282,
      "outputs": [
        {
          "output_type": "execute_result",
          "data": {
            "text/plain": [
              "0.7958342815672201"
            ]
          },
          "metadata": {},
          "execution_count": 282
        }
      ]
    },
    {
      "cell_type": "code",
      "source": [
        "w = metrics.silhouette_samples(df, ward.labels_, metric = 'euclidean')\n",
        "w"
      ],
      "metadata": {
        "colab": {
          "base_uri": "https://localhost:8080/"
        },
        "id": "nHz5CiE4Iu_X",
        "outputId": "074679a7-3323-42b2-ef78-c3114de55271"
      },
      "execution_count": 218,
      "outputs": [
        {
          "output_type": "execute_result",
          "data": {
            "text/plain": [
              "array([ 0.42044223,  0.27241173,  0.25069477,  0.40505124,  0.76910782,\n",
              "        0.86359579,  0.7708871 ,  0.86308196,  0.82709282,  0.7811789 ,\n",
              "        0.78785078,  0.81313221,  0.82358368,  0.62628528,  0.84240369,\n",
              "        0.86801374,  0.86764707,  0.8495291 ,  0.74317583,  0.82966309,\n",
              "        0.84210303,  0.80821287,  0.86208097,  0.81419408,  0.84939717,\n",
              "        0.73424393,  0.82479192,  0.7864478 ,  0.74076693,  0.81812331,\n",
              "        0.59852911,  0.86450867,  0.72281648,  0.84658455,  0.84139596,\n",
              "        0.83292765,  0.8143303 ,  0.61427923,  0.75931035,  0.77691436,\n",
              "        0.72720927,  0.86850484,  0.85789373,  0.861373  ,  0.8600781 ,\n",
              "        0.82927413,  0.86614254,  0.80164454,  0.86871352,  0.86649065,\n",
              "        0.73351849,  0.81329116,  0.75581649,  0.80985281,  0.65933657,\n",
              "        0.85107392,  0.75414595,  0.81479039,  0.80654035,  0.79641801,\n",
              "        0.79622143,  0.86559253,  0.86362959,  0.8610493 ,  0.86208419,\n",
              "        0.73805922,  0.82553949,  0.84531417,  0.86435646,  0.75017349,\n",
              "        0.84708524,  0.811902  ,  0.86755778,  0.56456786,  0.8525753 ,\n",
              "        0.82160432,  0.81876064,  0.81603153,  0.86255917,  0.83700378,\n",
              "        0.92148014,  0.92902773,  0.9055538 ,  0.84036961,  0.74215204,\n",
              "        0.92108954,  0.79401582,  0.92818199,  0.91102278,  0.92365912,\n",
              "        0.90869657,  0.92793166,  0.92459132,  0.92480724,  0.75727893,\n",
              "        0.89815941,  0.92891929,  0.87303998,  0.90826893,  0.919367  ,\n",
              "        0.87534924,  0.87472911,  0.8979758 ,  0.87861033,  0.89542685,\n",
              "        0.91717332,  0.87390901,  0.88448935,  0.92656082,  0.87009773,\n",
              "        0.89958185,  0.89756872,  0.91626809,  0.92259727,  0.90554466,\n",
              "        0.88424363,  0.81709079,  0.92887323,  0.83295861,  0.92911054,\n",
              "        0.9231261 ,  0.90917882,  0.91511102,  0.8814184 ,  0.90121326,\n",
              "        0.90486238,  0.92863883,  0.90743714,  0.90179829,  0.91726012,\n",
              "        0.92835172,  0.92692965,  0.81106624,  0.91939073,  0.92683698,\n",
              "        0.8017519 ,  0.88179064,  0.90080037,  0.92210765,  0.80766512,\n",
              "        0.92563412,  0.92854057,  0.91198298,  0.91105099,  0.88545816,\n",
              "        0.89705253,  0.91594484,  0.90796944,  0.87885212,  0.89222787,\n",
              "        0.89331799,  0.90289315,  0.8860063 ,  0.79954487,  0.9060587 ,\n",
              "        0.92699643,  0.92824756,  0.90985489,  0.83286111,  0.92934852,\n",
              "        0.4838397 ,  0.8375268 ,  0.84227836,  0.74048107,  0.84082618,\n",
              "        0.81705365,  0.82545148,  0.8346166 ,  0.8193468 ,  0.55683444,\n",
              "        0.80845953,  0.8310487 ,  0.79595075,  0.72999862,  0.73732875,\n",
              "        0.44842557,  0.58690098,  0.65611116,  0.82001897,  0.83893233,\n",
              "        0.83257087,  0.84433704,  0.83139952,  0.78709596,  0.70354604,\n",
              "        0.83356312,  0.42514251,  0.69445404,  0.6816785 ,  0.8190854 ,\n",
              "        0.82458389,  0.82005576,  0.8047984 ,  0.81708384,  0.83615744,\n",
              "        0.84338014,  0.78468505,  0.72225957,  0.7490728 ,  0.66302091,\n",
              "        0.78478377,  0.60326856,  0.78294275,  0.74067728,  0.82684474,\n",
              "        0.64353683,  0.83038189,  0.80627314,  0.62371704,  0.82010621,\n",
              "        0.84426259,  0.82926518,  0.80117931,  0.72724302,  0.67980955,\n",
              "        0.73580555,  0.39080862,  0.79506432,  0.83057131,  0.76515679,\n",
              "        0.66194717,  0.83963129,  0.75116359,  0.73991312,  0.84110807,\n",
              "        0.73744787,  0.58737849,  0.8404207 ,  0.83714493,  0.79611618,\n",
              "        0.79670132,  0.8125757 ,  0.49699767,  0.83897593,  0.67024845,\n",
              "        0.76976516,  0.68120977,  0.72460924,  0.83152582,  0.77668272,\n",
              "        0.86221988,  0.78151107,  0.77645826,  0.89396653,  0.89443401,\n",
              "        0.8529735 ,  0.85660628,  0.82814611,  0.75911209,  0.84887243,\n",
              "        0.871482  ,  0.85391642,  0.87759898,  0.88458617,  0.75323715,\n",
              "        0.88645246,  0.8628833 ,  0.88320869,  0.82514516,  0.87150868,\n",
              "        0.81747745,  0.86865389,  0.89410335,  0.75644758,  0.89125849,\n",
              "        0.82011235,  0.88889125,  0.88358433,  0.88370896,  0.64809818,\n",
              "        0.88346827,  0.8160951 ,  0.83748505,  0.72627344,  0.88640002,\n",
              "        0.67988202,  0.87920463,  0.82806966,  0.86850611,  0.8751358 ,\n",
              "        0.87179099,  0.8925875 ,  0.89344399,  0.64297257,  0.89362943,\n",
              "        0.87742324,  0.88474697,  0.89229168,  0.85411134,  0.79445295,\n",
              "        0.89438085,  0.88582164,  0.88299695,  0.89197318,  0.86703742,\n",
              "        0.86360501,  0.86651678,  0.87930556,  0.87969412,  0.70927029,\n",
              "        0.87545515,  0.88015314,  0.82573031,  0.89219974,  0.88030753,\n",
              "        0.85543661,  0.89091697,  0.87241575,  0.87811621,  0.78520307,\n",
              "        0.83671145,  0.88644387,  0.86529473,  0.85846584,  0.80462627,\n",
              "        0.89133084,  0.85503074,  0.85375748,  0.8744106 , -0.0046241 ,\n",
              "        0.84121303,  0.84132352,  0.81294512,  0.83885008,  0.45814874,\n",
              "        0.83184968,  0.64814422,  0.82764498,  0.83876362,  0.62854352,\n",
              "        0.83088961,  0.66588166,  0.80638987,  0.83443213,  0.80312881,\n",
              "        0.7851564 ,  0.83166534,  0.83202867,  0.84156799,  0.83741846,\n",
              "        0.82966211,  0.69501549,  0.82844612,  0.84084605,  0.83596165,\n",
              "        0.84040903,  0.74042243,  0.84015665,  0.83162434,  0.84052017,\n",
              "        0.82923461,  0.83698543,  0.83368019,  0.77262696,  0.77216545,\n",
              "        0.75345559,  0.79106007,  0.81868707,  0.82416393,  0.84099142,\n",
              "        0.81628051,  0.76500166,  0.73308633,  0.84030114,  0.83389649,\n",
              "        0.78798545,  0.83217532,  0.5668099 ,  0.82722978,  0.84125403,\n",
              "        0.82948816,  0.81855709,  0.54835045,  0.61010346,  0.83943057,\n",
              "        0.84156654,  0.83095751,  0.66279698,  0.84167462,  0.76918592,\n",
              "        0.83253842,  0.81598454,  0.78243206,  0.82543233,  0.79317994,\n",
              "        0.83687112,  0.51773778,  0.82727205,  0.821804  ,  0.80874749,\n",
              "        0.79061849,  0.74021789,  0.62763521,  0.82058841,  0.8195145 ,\n",
              "        0.77402619,  0.83376429,  0.83488078,  0.67422424,  0.41654811,\n",
              "        0.65157573,  0.66953653,  0.82696483,  0.7734433 ,  0.71955189,\n",
              "        0.78426919,  0.72882871,  0.83314075,  0.52482248,  0.83314329,\n",
              "        0.78517262,  0.83203838,  0.80466591,  0.70519775,  0.83268679,\n",
              "        0.67768043,  0.8263168 ,  0.8303045 ,  0.78973069,  0.78530681,\n",
              "        0.8151292 ,  0.83088595,  0.77535426,  0.64953274,  0.79551187,\n",
              "        0.82486758,  0.74672859,  0.81803686,  0.83235153,  0.76324856,\n",
              "        0.55115988,  0.81389037,  0.76026861,  0.32062099,  0.8047393 ,\n",
              "        0.78166711,  0.82436077,  0.79549571,  0.79436135,  0.77432658,\n",
              "        0.77708191,  0.80868154,  0.82448558,  0.75546291,  0.682596  ,\n",
              "        0.69879362,  0.79799583,  0.67561875,  0.83311361,  0.79843473,\n",
              "        0.80509528,  0.5660084 ,  0.35225968,  0.83185902,  0.72557541,\n",
              "        0.81582341,  0.71898045,  0.79463831,  0.67206671,  0.74114337,\n",
              "        0.48752726,  0.72865424,  0.6671174 ,  0.71063817,  0.82716494,\n",
              "        0.71285554,  0.83299478,  0.31926601,  0.68112046,  0.65047089,\n",
              "        0.78544231,  0.66605817,  0.47893699,  0.71466685,  0.83080138,\n",
              "        0.51637774,  0.83267458,  0.71342325,  0.80488798,  0.78942579])"
            ]
          },
          "metadata": {},
          "execution_count": 218
        }
      ]
    },
    {
      "cell_type": "code",
      "source": [
        "c = metrics.silhouette_samples(df, complete.labels_, metric = 'euclidean')\n",
        "c"
      ],
      "metadata": {
        "colab": {
          "base_uri": "https://localhost:8080/"
        },
        "id": "3nDmccJfJr9H",
        "outputId": "85cb6d05-9284-4339-e67e-d6dbfe0d5afa"
      },
      "execution_count": 219,
      "outputs": [
        {
          "output_type": "execute_result",
          "data": {
            "text/plain": [
              "array([ 0.68349079,  0.58617137,  0.55616932,  0.67957655,  0.76910782,\n",
              "        0.86359579,  0.7708871 ,  0.86308196,  0.82709282,  0.7811789 ,\n",
              "        0.78785078,  0.81313221,  0.82358368,  0.62628528,  0.84240369,\n",
              "        0.86801374,  0.86764707,  0.8495291 ,  0.74317583,  0.82966309,\n",
              "        0.84210303,  0.80821287,  0.86208097,  0.81419408,  0.84939717,\n",
              "        0.73424393,  0.82479192,  0.7864478 ,  0.74076693,  0.81812331,\n",
              "        0.59852911,  0.86450867,  0.72281648,  0.84658455,  0.84139596,\n",
              "        0.83292765,  0.8143303 ,  0.61427923,  0.75931035,  0.77691436,\n",
              "        0.72720927,  0.86850484,  0.85789373,  0.861373  ,  0.8600781 ,\n",
              "        0.82927413,  0.86614254,  0.80164454,  0.86871352,  0.86649065,\n",
              "        0.73351849,  0.81329116,  0.75581649,  0.80985281,  0.65933657,\n",
              "        0.85107392,  0.75414595,  0.81479039,  0.80654035,  0.79641801,\n",
              "        0.79622143,  0.86559253,  0.86362959,  0.8610493 ,  0.86208419,\n",
              "        0.73805922,  0.82553949,  0.84531417,  0.86435646,  0.75017349,\n",
              "        0.84708524,  0.811902  ,  0.86755778,  0.56456786,  0.8525753 ,\n",
              "        0.82160432,  0.81876064,  0.81603153,  0.86255917,  0.83700378,\n",
              "        0.93237499,  0.9383732 ,  0.92015472,  0.86466141,  0.77792121,\n",
              "        0.93083248,  0.82720572,  0.9378834 ,  0.92179535,  0.93290954,\n",
              "        0.91896188,  0.93744494,  0.93379674,  0.93532227,  0.79753687,\n",
              "        0.91073379,  0.93803953,  0.89264597,  0.92123487,  0.92939301,\n",
              "        0.89292939,  0.89578024,  0.90949466,  0.89017676,  0.91216374,\n",
              "        0.9292857 ,  0.8893338 ,  0.90355366,  0.93570041,  0.88856624,\n",
              "        0.91270027,  0.90863806,  0.92598746,  0.9323293 ,  0.91733999,\n",
              "        0.89609172,  0.841167  ,  0.9381787 ,  0.86221021,  0.93820573,\n",
              "        0.93394911,  0.91926507,  0.92766965,  0.89288307,  0.91258333,\n",
              "        0.91543777,  0.93781097,  0.91784689,  0.91226479,  0.92784659,\n",
              "        0.93741818,  0.93677899,  0.83795247,  0.92887718,  0.9361091 ,\n",
              "        0.82171199,  0.89777424,  0.91180623,  0.9317902 ,  0.82185281,\n",
              "        0.93537923,  0.93806856,  0.92522364,  0.92247893,  0.90177949,\n",
              "        0.91176162,  0.9277633 ,  0.91968552,  0.89731338,  0.90899924,\n",
              "        0.909393  ,  0.91631   ,  0.89843028,  0.83179508,  0.9169296 ,\n",
              "        0.93637845,  0.93792221,  0.92351695,  0.85689701,  0.93854143,\n",
              "        0.42941974,  0.42526945,  0.46651185,  0.49017896,  0.46568613,\n",
              "        0.45772838,  0.48394475,  0.47972517,  0.38659942,  0.32027249,\n",
              "        0.49837754,  0.44530319,  0.4937994 ,  0.26160729,  0.31725784,\n",
              "        0.33903605,  0.469588  ,  0.45736628,  0.38752782,  0.45192338,\n",
              "        0.4262438 ,  0.4531345 ,  0.48021661,  0.4750325 ,  0.25323112,\n",
              "        0.42479411,  0.28948616,  0.23549018,  0.34915128,  0.42710239,\n",
              "        0.41452478,  0.49680051,  0.49804057,  0.41085711,  0.48781462,\n",
              "        0.45833999,  0.48835161,  0.30440819,  0.36566403,  0.18980356,\n",
              "        0.38982472,  0.46355888,  0.32616068,  0.34678421,  0.4712359 ,\n",
              "        0.32397695,  0.45120988,  0.47393754,  0.30863363,  0.49601642,\n",
              "        0.44919461,  0.41188037,  0.40514588,  0.4873488 ,  0.46577646,\n",
              "        0.28568675,  0.37306868,  0.36296911,  0.44134025,  0.49517897,\n",
              "        0.29294146,  0.43164361,  0.27642949,  0.27819848,  0.44315934,\n",
              "        0.48694405,  0.47213317,  0.45947116,  0.44365967,  0.37697224,\n",
              "        0.49759326,  0.49837714,  0.37399498,  0.45330903,  0.22047   ,\n",
              "        0.32735426,  0.47230196,  0.39306128,  0.49344423,  0.35370884,\n",
              "        0.86221988,  0.78151107,  0.77645826,  0.89396653,  0.89443401,\n",
              "        0.8529735 ,  0.85660628,  0.82814611,  0.75911209,  0.84887243,\n",
              "        0.871482  ,  0.85391642,  0.87759898,  0.88458617,  0.75323715,\n",
              "        0.88645246,  0.8628833 ,  0.88320869,  0.82514516,  0.87150868,\n",
              "        0.81747745,  0.86865389,  0.89410335,  0.75644758,  0.89125849,\n",
              "        0.82011235,  0.88889125,  0.88358433,  0.88370896,  0.64809818,\n",
              "        0.88346827,  0.8160951 ,  0.83748505,  0.72627344,  0.88640002,\n",
              "        0.67988202,  0.87920463,  0.82806966,  0.86850611,  0.8751358 ,\n",
              "        0.87179099,  0.8925875 ,  0.89344399,  0.64297257,  0.89362943,\n",
              "        0.87742324,  0.88474697,  0.89229168,  0.85411134,  0.79445295,\n",
              "        0.89438085,  0.88582164,  0.88299695,  0.89197318,  0.86703742,\n",
              "        0.86360501,  0.86651678,  0.87930556,  0.87969412,  0.70927029,\n",
              "        0.87545515,  0.88015314,  0.82573031,  0.89219974,  0.88030753,\n",
              "        0.85543661,  0.89091697,  0.87241575,  0.87811621,  0.78520307,\n",
              "        0.83671145,  0.88644387,  0.86529473,  0.85846584,  0.80462627,\n",
              "        0.89133084,  0.85503074,  0.85375748,  0.8744106 , -0.0046241 ,\n",
              "        0.02625053,  0.02497765, -0.19969756,  0.00831652,  0.23223595,\n",
              "        0.0669075 ,  0.20301007,  0.07943574,  0.04160223,  0.19377883,\n",
              "        0.02654747,  0.57967887, -0.14439239, -0.03699308, -0.20495392,\n",
              "        0.13998931, -0.06709671,  0.06076302,  0.02116841,  0.02969562,\n",
              "        0.06783175,  0.19502341,  0.00208987,  0.01035828, -0.03736786,\n",
              "        0.0319854 , -0.44260642,  0.03554752, -0.00496918, -0.00249293,\n",
              "        0.05064856, -0.01807023,  0.05702215,  0.15131381,  0.14620593,\n",
              "       -0.39672729,  0.11128762, -0.12708377, -0.1355332 ,  0.00412922,\n",
              "        0.09741659, -0.37576835, -0.42940239,  0.02612101,  0.05102428,\n",
              "       -0.28823955,  0.04629345,  0.20999447, -0.08478087,  0.02260664,\n",
              "       -0.11192361,  0.09706637,  0.65651499,  0.20747652,  0.03666373,\n",
              "        0.00471502,  0.05225619,  0.56777626,  0.00945343, -0.33275373,\n",
              "       -0.00663299, -0.09119702, -0.25808225, -0.09926347,  0.11088597,\n",
              "        0.03533882,  0.22819524,  0.07728742,  0.09099914, -0.19201715,\n",
              "        0.13369916, -0.42724261,  0.6108853 ,  0.09399603, -0.15423514,\n",
              "       -0.29733994, -0.00607925,  0.01604979,  0.55326094,  0.220475  ,\n",
              "        0.71274737,  0.72141195,  0.86362722,  0.83000613,  0.71955189,\n",
              "        0.84015251,  0.80414853,  0.86723612,  0.68052137,  0.86720481,\n",
              "        0.82220789,  0.86703106,  0.8349067 ,  0.78743819,  0.86711965,\n",
              "        0.69487629,  0.8640137 ,  0.86563944,  0.79233731,  0.78739936,\n",
              "        0.85998294,  0.86844447,  0.82760197,  0.64953274,  0.84778519,\n",
              "        0.85281947,  0.81032838,  0.8622086 ,  0.86526926,  0.82241357,\n",
              "        0.689551  ,  0.85775186,  0.81896087,  0.56836634,  0.84244368,\n",
              "        0.83729948,  0.86631408,  0.80521317,  0.84665692,  0.83174285,\n",
              "        0.83279334,  0.83275557,  0.86625923,  0.8103386 ,  0.682596  ,\n",
              "        0.75139124,  0.82220972,  0.67561875,  0.86691323,  0.84925403,\n",
              "        0.81546256,  0.5660084 ,  0.57259669,  0.86879645,  0.72557541,\n",
              "        0.83622562,  0.75537663,  0.79716316,  0.67206671,  0.74114337,\n",
              "        0.54908865,  0.75339866,  0.75223046,  0.79243795,  0.8592978 ,\n",
              "        0.78582065,  0.86769235,  0.56298378,  0.77227237,  0.75463959,\n",
              "        0.83988594,  0.76411043,  0.64244077,  0.71466685,  0.8622094 ,\n",
              "        0.65764445,  0.86649014,  0.71342325,  0.81637816,  0.84281778])"
            ]
          },
          "metadata": {},
          "execution_count": 219
        }
      ]
    },
    {
      "cell_type": "code",
      "source": [
        "s = metrics.silhouette_samples(df, single.labels_, metric = 'euclidean')\n",
        "s"
      ],
      "metadata": {
        "colab": {
          "base_uri": "https://localhost:8080/"
        },
        "id": "Wni3tYuPJ400",
        "outputId": "1b66eee8-c483-487b-84ba-e5ae410a5d1a"
      },
      "execution_count": 220,
      "outputs": [
        {
          "output_type": "execute_result",
          "data": {
            "text/plain": [
              "array([ 0.49245985,  0.28845861,  0.2531194 ,  0.4735332 ,  0.82745239,\n",
              "        0.89481206,  0.81489228,  0.89351041,  0.86828761,  0.82711243,\n",
              "        0.83818524,  0.85860603,  0.86497522,  0.70459362,  0.88056981,\n",
              "        0.89805935,  0.89790669,  0.88544728,  0.79928902,  0.86498443,\n",
              "        0.88016909,  0.85546115,  0.89421813,  0.85472107,  0.88217233,\n",
              "        0.80510344,  0.86533319,  0.83121084,  0.78798945,  0.85547482,\n",
              "        0.68890681,  0.89396341,  0.77838798,  0.88198194,  0.87724018,\n",
              "        0.86649543,  0.85883374,  0.701445  ,  0.81430948,  0.81908474,\n",
              "        0.80130734,  0.89824014,  0.89100685,  0.8911211 ,  0.89005789,\n",
              "        0.86637064,  0.89679319,  0.84141747,  0.89803291,  0.89578866,\n",
              "        0.78038709,  0.85679098,  0.815486  ,  0.85312597,  0.7261228 ,\n",
              "        0.88506717,  0.81607407,  0.86070503,  0.8552835 ,  0.83485619,\n",
              "        0.83784861,  0.89518816,  0.89309211,  0.89084417,  0.89194757,\n",
              "        0.78806113,  0.860357  ,  0.88146341,  0.8957883 ,  0.8038204 ,\n",
              "        0.87966558,  0.85934985,  0.89784474,  0.66289835,  0.88587529,\n",
              "        0.86437031,  0.8569004 ,  0.85199565,  0.89455407,  0.87647433,\n",
              "        0.89293114,  0.90206856,  0.8777436 ,  0.81020125,  0.6209961 ,\n",
              "        0.88762841,  0.76719146,  0.90216435,  0.87649187,  0.89148237,\n",
              "        0.86584797,  0.90138982,  0.8938715 ,  0.89867338,  0.73343391,\n",
              "        0.85241515,  0.90109177,  0.84315585,  0.87457406,  0.88837936,\n",
              "        0.8395817 ,  0.84361063,  0.85597952,  0.81300056,  0.86705376,\n",
              "        0.88994053,  0.8144088 ,  0.8539914 ,  0.8972941 ,  0.81918881,\n",
              "        0.86552247,  0.84683104,  0.87877377,  0.89294896,  0.8642053 ,\n",
              "        0.83174953,  0.7316135 ,  0.90218964,  0.79657825,  0.90158167,\n",
              "        0.89630949,  0.86894403,  0.8886394 ,  0.8180512 ,  0.85439977,\n",
              "        0.85935251,  0.90125992,  0.86376952,  0.85661935,  0.88297108,\n",
              "        0.90011127,  0.90078372,  0.77723624,  0.88538669,  0.89854362,\n",
              "        0.68094569,  0.83280371,  0.85852928,  0.88939827,  0.67391555,\n",
              "        0.89655401,  0.90180473,  0.88516146,  0.87377164,  0.8522375 ,\n",
              "        0.8663356 ,  0.8886743 ,  0.86872003,  0.8479034 ,  0.86365015,\n",
              "        0.86391828,  0.86537408,  0.83838462,  0.77227044,  0.8677789 ,\n",
              "        0.89798084,  0.90222832,  0.8819843 ,  0.7974033 ,  0.90222429,\n",
              "       -0.16524933,  0.42650091,  0.39119917,  0.17976591,  0.39126333,\n",
              "        0.37420709,  0.35853702,  0.37029862,  0.44978304,  0.0791463 ,\n",
              "        0.31812502,  0.39956883,  0.31945634,  0.48640961,  0.44321349,\n",
              "       -0.13656363,  0.02011022,  0.05473178,  0.44954239,  0.40135988,\n",
              "        0.42150323,  0.40595283,  0.36648648,  0.27603764,  0.47208413,\n",
              "        0.42235686, -0.11623839,  0.47950689,  0.32386322,  0.40403259,\n",
              "        0.42652092,  0.32352277,  0.29500283,  0.42302347,  0.36402762,\n",
              "        0.40003757,  0.25385547,  0.4418754 ,  0.39688558,  0.49122682,\n",
              "        0.4134423 ,  0.09497693,  0.47404325,  0.41612322,  0.37083209,\n",
              "        0.28129443,  0.39350089,  0.32067678,  0.26545112,  0.34032229,\n",
              "        0.40965261,  0.43246916,  0.40869455,  0.15738486,  0.23826969,\n",
              "        0.46732011, -0.22825209,  0.45167276,  0.40267513,  0.25225278,\n",
              "        0.39598395,  0.42239552,  0.49038947,  0.47799754,  0.41152956,\n",
              "        0.17231072, -0.01913612,  0.39586816,  0.40708967,  0.43518636,\n",
              "        0.27948119,  0.32526023, -0.1067651 ,  0.40012696,  0.4724669 ,\n",
              "        0.45975244,  0.21170894,  0.32021292,  0.35388488,  0.44379796,\n",
              "        0.84004681,  0.67785333,  0.66859898,  0.87425062,  0.87586719,\n",
              "        0.8133833 ,  0.82182162,  0.77626603,  0.66270832,  0.81516927,\n",
              "        0.83402695,  0.8360959 ,  0.86168051,  0.86913568,  0.63514028,\n",
              "        0.86947002,  0.84024809,  0.86530568,  0.77541245,  0.85052137,\n",
              "        0.7586745 ,  0.85218737,  0.8772955 ,  0.63221169,  0.87480939,\n",
              "        0.77363126,  0.86440227,  0.86792127,  0.85659439,  0.34626807,\n",
              "        0.86780175,  0.76554713,  0.81838741,  0.53461128,  0.8696924 ,\n",
              "        0.52612271,  0.86124972,  0.77055724,  0.84048659,  0.84899159,\n",
              "        0.84967092,  0.875611  ,  0.87327082,  0.38242571,  0.87410375,\n",
              "        0.85907313,  0.8675193 ,  0.87581703,  0.83656221,  0.73122537,\n",
              "        0.87732552,  0.86256544,  0.86746497,  0.8752349 ,  0.84937648,\n",
              "        0.83925154,  0.84793686,  0.85455333,  0.85911287,  0.56631162,\n",
              "        0.85419963,  0.84927908,  0.77075351,  0.87246636,  0.86458263,\n",
              "        0.80998288,  0.87458984,  0.84107792,  0.86260835,  0.71346056,\n",
              "        0.79436829,  0.87013005,  0.83777077,  0.8187197 ,  0.78086003,\n",
              "        0.87151089,  0.8175283 ,  0.83491855,  0.84054191,  0.        ,\n",
              "        0.88604858,  0.88609974,  0.86195947,  0.88450902,  0.61587386,\n",
              "        0.88036201,  0.75342304,  0.87736938,  0.88437679,  0.73685721,\n",
              "        0.87773858,  0.73805887,  0.86000879,  0.88090026,  0.85594778,\n",
              "        0.84911428,  0.87844683,  0.87968828,  0.88615602,  0.88287191,\n",
              "        0.87816184,  0.78764506,  0.87773074,  0.885737  ,  0.88063127,\n",
              "        0.88541328,  0.80344915,  0.88540325,  0.87969832,  0.88477251,\n",
              "        0.8771505 ,  0.88289661,  0.88159919,  0.8407023 ,  0.83968154,\n",
              "        0.81483776,  0.85110258,  0.86854418,  0.87165158,  0.8857154 ,\n",
              "        0.86948702,  0.82319386,  0.79961688,  0.88558334,  0.8807588 ,\n",
              "        0.8426432 ,  0.88065347,  0.69295639,  0.87519073,  0.8858577 ,\n",
              "        0.87550728,  0.87135741,  0.63294384,  0.72535717,  0.88509237,\n",
              "        0.88599749,  0.87852116,  0.73822587,  0.88598273,  0.82852312,\n",
              "        0.88026553,  0.86770419,  0.84045148,  0.87365899,  0.85267431,\n",
              "        0.88259094,  0.66012917,  0.87747536,  0.87381918,  0.86001627,\n",
              "        0.85267312,  0.80444634,  0.70697174,  0.87280353,  0.86814984,\n",
              "        0.83332363,  0.88106656,  0.88210107,  0.7474735 ,  0.5796493 ,\n",
              "        0.48377636,  0.45350162,  0.45730832,  0.54532641,  0.2923036 ,\n",
              "        0.47013111,  0.46958912,  0.47905464,  0.47465722,  0.47914037,\n",
              "        0.35103587,  0.47255705,  0.49272256,  0.54670359,  0.47505801,\n",
              "        0.37209594,  0.50210667,  0.46587377,  0.3999143 ,  0.37423572,\n",
              "        0.45786807,  0.47636126,  0.54414009,  0.22394496,  0.49913128,\n",
              "        0.44644579,  0.3329009 ,  0.50428117,  0.48257482,  0.36404957,\n",
              "        0.57180462,  0.43713873,  0.55221415,  0.45530911,  0.51572868,\n",
              "        0.53434376,  0.47236178,  0.38777054,  0.51738966,  0.54090171,\n",
              "        0.54315113,  0.47707087,  0.50011641,  0.52572742,  0.22158232,\n",
              "        0.20233397,  0.46883036,  0.16084789,  0.47912703,  0.51780398,\n",
              "        0.43192998,  0.0738504 ,  0.26901736,  0.48267137,  0.31115024,\n",
              "        0.42982165,  0.44047758,  0.40226076,  0.20409937,  0.34049259,\n",
              "        0.46835916,  0.42021266,  0.21692488,  0.52524096,  0.49351551,\n",
              "        0.56524392,  0.47894696,  0.57300221,  0.54809139,  0.53231104,\n",
              "        0.53243864,  0.53485849,  0.58588253,  0.29882014,  0.46537653,\n",
              "        0.09816237,  0.4832187 ,  0.28485542,  0.41738815,  0.44369487])"
            ]
          },
          "metadata": {},
          "execution_count": 220
        }
      ]
    },
    {
      "cell_type": "code",
      "source": [
        "y = metrics.silhouette_samples(df, kmeans.labels_, metric = 'euclidean')\n",
        "y"
      ],
      "metadata": {
        "colab": {
          "base_uri": "https://localhost:8080/"
        },
        "id": "DadnspngJ9i8",
        "outputId": "67e7b0c0-285c-4313-8a86-5330b0a1bc34"
      },
      "execution_count": 221,
      "outputs": [
        {
          "output_type": "execute_result",
          "data": {
            "text/plain": [
              "array([0.42044223, 0.27241173, 0.25069477, 0.40505124, 0.77112036,\n",
              "       0.86487202, 0.77302134, 0.86426386, 0.82858378, 0.78275074,\n",
              "       0.78955466, 0.81507775, 0.82506117, 0.63059775, 0.84388216,\n",
              "       0.86920387, 0.86885005, 0.85097567, 0.74515042, 0.83123715,\n",
              "       0.84355268, 0.80991241, 0.86334026, 0.81604371, 0.85063989,\n",
              "       0.73722197, 0.82657399, 0.78799455, 0.74252329, 0.81982201,\n",
              "       0.60343843, 0.86568533, 0.72488289, 0.84808901, 0.84295143,\n",
              "       0.83433357, 0.81626182, 0.61895358, 0.76118631, 0.77892144,\n",
              "       0.72994483, 0.86968479, 0.85916565, 0.86256859, 0.86127663,\n",
              "       0.83062438, 0.8673793 , 0.80312415, 0.86989315, 0.86768485,\n",
              "       0.73529957, 0.81522358, 0.7585395 , 0.81180808, 0.66300436,\n",
              "       0.85234604, 0.75622355, 0.81669349, 0.80852765, 0.79812267,\n",
              "       0.79818157, 0.86680903, 0.86481716, 0.86224612, 0.86332024,\n",
              "       0.7406002 , 0.82694215, 0.84683833, 0.86559761, 0.75281016,\n",
              "       0.84849209, 0.8137531 , 0.86875908, 0.57002021, 0.85382617,\n",
              "       0.82344019, 0.82015329, 0.81750622, 0.86381479, 0.83849232,\n",
              "       0.92148014, 0.92902773, 0.9055538 , 0.84036961, 0.74215204,\n",
              "       0.92108954, 0.79401582, 0.92818199, 0.91102278, 0.92365912,\n",
              "       0.90869657, 0.92793166, 0.92459132, 0.92480724, 0.75727893,\n",
              "       0.89815941, 0.92891929, 0.87303998, 0.90826893, 0.919367  ,\n",
              "       0.87534924, 0.87472911, 0.8979758 , 0.87861033, 0.89542685,\n",
              "       0.91717332, 0.87390901, 0.88448935, 0.92656082, 0.87009773,\n",
              "       0.89958185, 0.89756872, 0.91626809, 0.92259727, 0.90554466,\n",
              "       0.88424363, 0.81709079, 0.92887323, 0.83295861, 0.92911054,\n",
              "       0.9231261 , 0.90917882, 0.91511102, 0.8814184 , 0.90121326,\n",
              "       0.90486238, 0.92863883, 0.90743714, 0.90179829, 0.91726012,\n",
              "       0.92835172, 0.92692965, 0.81106624, 0.91939073, 0.92683698,\n",
              "       0.8017519 , 0.88179064, 0.90080037, 0.92210765, 0.80766512,\n",
              "       0.92563412, 0.92854057, 0.91198298, 0.91105099, 0.88545816,\n",
              "       0.89705253, 0.91594484, 0.90796944, 0.87885212, 0.89222787,\n",
              "       0.89331799, 0.90289315, 0.8860063 , 0.79954487, 0.9060587 ,\n",
              "       0.92699643, 0.92824756, 0.90985489, 0.83286111, 0.92934852,\n",
              "       0.4838397 , 0.83874951, 0.84227836, 0.74048107, 0.84082618,\n",
              "       0.81705365, 0.82545148, 0.8346166 , 0.82071297, 0.55683444,\n",
              "       0.80845953, 0.8310487 , 0.79595075, 0.73165157, 0.73855841,\n",
              "       0.44842557, 0.58690098, 0.65611116, 0.82137194, 0.83893233,\n",
              "       0.83364315, 0.84433704, 0.83139952, 0.78709596, 0.7050062 ,\n",
              "       0.83486233, 0.42514251, 0.69600217, 0.6816785 , 0.8190854 ,\n",
              "       0.82567681, 0.82005576, 0.8047984 , 0.81816877, 0.83615744,\n",
              "       0.84338014, 0.78468505, 0.72348577, 0.75147705, 0.66475105,\n",
              "       0.78587185, 0.60326856, 0.78465193, 0.7417929 , 0.82684474,\n",
              "       0.64353683, 0.83038189, 0.80627314, 0.62371704, 0.82010621,\n",
              "       0.84426259, 0.83059341, 0.80289839, 0.72724302, 0.67980955,\n",
              "       0.73828791, 0.39080862, 0.79631318, 0.83057131, 0.76515679,\n",
              "       0.66292785, 0.84072488, 0.75308216, 0.74227074, 0.84110807,\n",
              "       0.73744787, 0.58737849, 0.8404207 , 0.83714493, 0.79787318,\n",
              "       0.79670132, 0.8125757 , 0.49699767, 0.83897593, 0.67171902,\n",
              "       0.77180235, 0.68120977, 0.72460924, 0.83152582, 0.77789424,\n",
              "       0.87050092, 0.78628417, 0.78109993, 0.90227168, 0.90282648,\n",
              "       0.86022391, 0.86411441, 0.83483749, 0.76407481, 0.85646362,\n",
              "       0.87876086, 0.86250074, 0.88629321, 0.89329087, 0.75754488,\n",
              "       0.89502574, 0.87113181, 0.89172699, 0.83193992, 0.87984747,\n",
              "       0.82387011, 0.87732717, 0.90264111, 0.7605941 , 0.89984565,\n",
              "       0.82706292, 0.89687969, 0.89227646, 0.89155423, 0.64842233,\n",
              "       0.89216063, 0.822855  , 0.845963  , 0.7287895 , 0.89499538,\n",
              "       0.68301211, 0.88773711, 0.83450602, 0.87638124, 0.88310242,\n",
              "       0.88004906, 0.9011226 , 0.90171776, 0.64387471, 0.90195239,\n",
              "       0.88593297, 0.89330999, 0.9008698 , 0.86271449, 0.80065428,\n",
              "       0.90289619, 0.89392331, 0.89170201, 0.90053197, 0.87562569,\n",
              "       0.87173702, 0.87503971, 0.88734387, 0.88802838, 0.7127902 ,\n",
              "       0.88375995, 0.8877751 , 0.83228339, 0.90051807, 0.88900778,\n",
              "       0.86236497, 0.8995163 , 0.88005965, 0.88684074, 0.79106126,\n",
              "       0.84385562, 0.89507038, 0.87321463, 0.86568602, 0.81271855,\n",
              "       0.89964925, 0.86238949, 0.86227199, 0.88188476, 0.0046241 ,\n",
              "       0.84121303, 0.84132352, 0.81294512, 0.83885008, 0.45814874,\n",
              "       0.83184968, 0.64814422, 0.82764498, 0.83876362, 0.62854352,\n",
              "       0.83088961, 0.66588166, 0.80638987, 0.83443213, 0.80312881,\n",
              "       0.7851564 , 0.83166534, 0.83202867, 0.84156799, 0.83741846,\n",
              "       0.82966211, 0.69501549, 0.82844612, 0.84084605, 0.83596165,\n",
              "       0.84040903, 0.74042243, 0.84015665, 0.83162434, 0.84052017,\n",
              "       0.82923461, 0.83698543, 0.83368019, 0.77262696, 0.77216545,\n",
              "       0.75345559, 0.79106007, 0.81868707, 0.82416393, 0.84099142,\n",
              "       0.81628051, 0.76500166, 0.73308633, 0.84030114, 0.83389649,\n",
              "       0.78798545, 0.83217532, 0.5668099 , 0.82722978, 0.84125403,\n",
              "       0.82948816, 0.81855709, 0.54835045, 0.61010346, 0.83943057,\n",
              "       0.84156654, 0.83095751, 0.66279698, 0.84167462, 0.76918592,\n",
              "       0.83253842, 0.81598454, 0.78243206, 0.82543233, 0.79317994,\n",
              "       0.83687112, 0.51773778, 0.82727205, 0.821804  , 0.80874749,\n",
              "       0.79061849, 0.74021789, 0.62763521, 0.82058841, 0.8195145 ,\n",
              "       0.77402619, 0.83376429, 0.83488078, 0.67422424, 0.41654811,\n",
              "       0.63671291, 0.65515481, 0.81555841, 0.75934799, 0.70780656,\n",
              "       0.77256765, 0.71718573, 0.82116432, 0.51317275, 0.82116455,\n",
              "       0.77611073, 0.82023598, 0.79181571, 0.69096904, 0.82081773,\n",
              "       0.66429676, 0.81368949, 0.81867756, 0.77840492, 0.77580904,\n",
              "       0.80372113, 0.8189833 , 0.76130515, 0.63627577, 0.78297555,\n",
              "       0.81373013, 0.73810868, 0.8053444 , 0.82027983, 0.75400622,\n",
              "       0.53557232, 0.80298936, 0.74589488, 0.30982023, 0.79157316,\n",
              "       0.76797792, 0.81256913, 0.78570465, 0.78125363, 0.76039532,\n",
              "       0.76307118, 0.7962602 , 0.81191733, 0.74128146, 0.67505521,\n",
              "       0.69232884, 0.78535482, 0.66959413, 0.82113525, 0.78531508,\n",
              "       0.79394861, 0.56011971, 0.34624909, 0.81978492, 0.71657266,\n",
              "       0.80508904, 0.70527019, 0.78418549, 0.66506478, 0.72895217,\n",
              "       0.47176636, 0.71532789, 0.66060673, 0.69722246, 0.81478844,\n",
              "       0.69787656, 0.82102134, 0.30314476, 0.6668068 , 0.63675079,\n",
              "       0.77182297, 0.65225228, 0.46244842, 0.70557019, 0.81918679,\n",
              "       0.51211857, 0.82058507, 0.70486906, 0.79445195, 0.77840158])"
            ]
          },
          "metadata": {},
          "execution_count": 221
        }
      ]
    },
    {
      "cell_type": "code",
      "source": [
        "ss_dbscan = []\n",
        "for label in range(6):\n",
        "  ss_dbscan.append(dbscan[dbs.labels_ == label].mean())\n",
        "print(ss_dbscan)"
      ],
      "metadata": {
        "colab": {
          "base_uri": "https://localhost:8080/"
        },
        "id": "U5EYMEkiKNnH",
        "outputId": "f5aa1d6a-86db-42af-8587-bde998568b02"
      },
      "execution_count": 283,
      "outputs": [
        {
          "output_type": "stream",
          "name": "stdout",
          "text": [
            "[0.8050677606630225, 0.8937793795196722, 0.7488966811577216, 0.8563449084652952, 0.8008063104909865, 0.7418909551964109]\n"
          ]
        }
      ]
    },
    {
      "cell_type": "code",
      "source": [
        "ss_ward = []\n",
        "for label in range(6):\n",
        "  ss_ward.append(w[ward.labels_ == label].mean())\n",
        "print(ss_ward)"
      ],
      "metadata": {
        "colab": {
          "base_uri": "https://localhost:8080/"
        },
        "id": "Xg3JDNwSM8xM",
        "outputId": "e747a17d-a46d-4d00-cd7d-7ba2207ecd41"
      },
      "execution_count": 223,
      "outputs": [
        {
          "output_type": "stream",
          "name": "stdout",
          "text": [
            "[0.7596529748215892, 0.8379076219631338, 0.8937793795196722, 0.8059468874447834, 0.7339141800229522, 0.7507832858141817]\n"
          ]
        }
      ]
    },
    {
      "cell_type": "code",
      "source": [
        "ss_complete = []\n",
        "for label in range(6):\n",
        "  ss_complete.append(c[complete.labels_ == label].mean())\n",
        "print(ss_complete)"
      ],
      "metadata": {
        "colab": {
          "base_uri": "https://localhost:8080/"
        },
        "id": "Yh4D5WZgNWbf",
        "outputId": "e093985c-880a-4b4a-acdb-59cc9edb6a72"
      },
      "execution_count": 224,
      "outputs": [
        {
          "output_type": "stream",
          "name": "stdout",
          "text": [
            "[0.8379076219631338, 0.20414774754431816, 0.9079156308566867, 0.8059468874447834, 0.7853842302684859, 0.6081693765522441]\n"
          ]
        }
      ]
    },
    {
      "cell_type": "code",
      "source": [
        "ss_single = []\n",
        "for label in range(6):\n",
        "  ss_single.append(s[single.labels_ == label].mean())\n",
        "print(ss_single)"
      ],
      "metadata": {
        "colab": {
          "base_uri": "https://localhost:8080/"
        },
        "id": "fOxQdVmYOGYf",
        "outputId": "bc66393e-9aff-4830-acd9-a3993a8980d9"
      },
      "execution_count": 225,
      "outputs": [
        {
          "output_type": "stream",
          "name": "stdout",
          "text": [
            "[0.3801123444352735, 0.8551263292198901, 0.8186523773689968, 0.8047368088801956, 0.0, 0.8491257969131135]\n"
          ]
        }
      ]
    },
    {
      "cell_type": "code",
      "source": [
        "ss_kmeans = []\n",
        "for label in range(6):\n",
        "  ss_kmeans.append(y[kmeans.labels_ == label].mean())\n",
        "print(ss_kmeans)"
      ],
      "metadata": {
        "colab": {
          "base_uri": "https://localhost:8080/"
        },
        "id": "JqxeIM8YOa_f",
        "outputId": "703c638e-aba5-4621-c06d-333db5101345"
      },
      "execution_count": 226,
      "outputs": [
        {
          "output_type": "stream",
          "name": "stdout",
          "text": [
            "[0.8077642913689619, 0.7133004522516861, 0.751324046409204, 0.855980764633404, 0.7596529748215892, 0.8937793795196722]\n"
          ]
        }
      ]
    },
    {
      "cell_type": "code",
      "source": [
        "import statistics"
      ],
      "metadata": {
        "id": "8pnCF_upOhkG"
      },
      "execution_count": 227,
      "outputs": []
    },
    {
      "cell_type": "code",
      "source": [
        "statistics.mean(dbscan)"
      ],
      "metadata": {
        "colab": {
          "base_uri": "https://localhost:8080/"
        },
        "id": "CYViux57Oo-P",
        "outputId": "a5b0a6b1-5290-48fc-fd04-7646a5842150"
      },
      "execution_count": 228,
      "outputs": [
        {
          "output_type": "execute_result",
          "data": {
            "text/plain": [
              "0.7958342815672201"
            ]
          },
          "metadata": {},
          "execution_count": 228
        }
      ]
    },
    {
      "cell_type": "code",
      "source": [
        "statistics.mean(c)"
      ],
      "metadata": {
        "colab": {
          "base_uri": "https://localhost:8080/"
        },
        "id": "UC69RPKpOqgP",
        "outputId": "d98a87bb-d2d4-4474-e3ef-85e6065e03e9"
      },
      "execution_count": 229,
      "outputs": [
        {
          "output_type": "execute_result",
          "data": {
            "text/plain": [
              "0.6268020569816825"
            ]
          },
          "metadata": {},
          "execution_count": 229
        }
      ]
    },
    {
      "cell_type": "code",
      "source": [
        "statistics.mean(s)"
      ],
      "metadata": {
        "colab": {
          "base_uri": "https://localhost:8080/"
        },
        "id": "0Z5ihsQqOsBO",
        "outputId": "b31d3eaf-9bd9-4a83-f4f1-601bcbf91fb1"
      },
      "execution_count": 230,
      "outputs": [
        {
          "output_type": "execute_result",
          "data": {
            "text/plain": [
              "0.6793805200274224"
            ]
          },
          "metadata": {},
          "execution_count": 230
        }
      ]
    },
    {
      "cell_type": "code",
      "source": [
        "statistics.mean(w)"
      ],
      "metadata": {
        "colab": {
          "base_uri": "https://localhost:8080/"
        },
        "id": "ezSHE1IUOt5O",
        "outputId": "dbcd3a6f-da21-4b4f-9925-2c910ab0a51c"
      },
      "execution_count": 231,
      "outputs": [
        {
          "output_type": "execute_result",
          "data": {
            "text/plain": [
              "0.7966116056591922"
            ]
          },
          "metadata": {},
          "execution_count": 231
        }
      ]
    },
    {
      "cell_type": "code",
      "source": [
        "statistics.mean(y)"
      ],
      "metadata": {
        "colab": {
          "base_uri": "https://localhost:8080/"
        },
        "id": "NMZNfm5MOvbf",
        "outputId": "a5abdb83-48e9-4086-8705-d456ca8b0abb"
      },
      "execution_count": 232,
      "outputs": [
        {
          "output_type": "execute_result",
          "data": {
            "text/plain": [
              "0.7962688065453963"
            ]
          },
          "metadata": {},
          "execution_count": 232
        }
      ]
    },
    {
      "cell_type": "code",
      "source": [
        "pip install seaborn"
      ],
      "metadata": {
        "colab": {
          "base_uri": "https://localhost:8080/"
        },
        "id": "DpN8MfA5Oz1X",
        "outputId": "02cabf0e-c27c-4cb0-cfa6-6a2e08cef792"
      },
      "execution_count": 233,
      "outputs": [
        {
          "output_type": "stream",
          "name": "stdout",
          "text": [
            "Looking in indexes: https://pypi.org/simple, https://us-python.pkg.dev/colab-wheels/public/simple/\n",
            "Requirement already satisfied: seaborn in /usr/local/lib/python3.7/dist-packages (0.11.2)\n",
            "Requirement already satisfied: matplotlib>=2.2 in /usr/local/lib/python3.7/dist-packages (from seaborn) (3.2.2)\n",
            "Requirement already satisfied: pandas>=0.23 in /usr/local/lib/python3.7/dist-packages (from seaborn) (1.3.5)\n",
            "Requirement already satisfied: scipy>=1.0 in /usr/local/lib/python3.7/dist-packages (from seaborn) (1.7.3)\n",
            "Requirement already satisfied: numpy>=1.15 in /usr/local/lib/python3.7/dist-packages (from seaborn) (1.21.6)\n",
            "Requirement already satisfied: kiwisolver>=1.0.1 in /usr/local/lib/python3.7/dist-packages (from matplotlib>=2.2->seaborn) (1.4.4)\n",
            "Requirement already satisfied: cycler>=0.10 in /usr/local/lib/python3.7/dist-packages (from matplotlib>=2.2->seaborn) (0.11.0)\n",
            "Requirement already satisfied: python-dateutil>=2.1 in /usr/local/lib/python3.7/dist-packages (from matplotlib>=2.2->seaborn) (2.8.2)\n",
            "Requirement already satisfied: pyparsing!=2.0.4,!=2.1.2,!=2.1.6,>=2.0.1 in /usr/local/lib/python3.7/dist-packages (from matplotlib>=2.2->seaborn) (3.0.9)\n",
            "Requirement already satisfied: typing-extensions in /usr/local/lib/python3.7/dist-packages (from kiwisolver>=1.0.1->matplotlib>=2.2->seaborn) (4.1.1)\n",
            "Requirement already satisfied: pytz>=2017.3 in /usr/local/lib/python3.7/dist-packages (from pandas>=0.23->seaborn) (2022.6)\n",
            "Requirement already satisfied: six>=1.5 in /usr/local/lib/python3.7/dist-packages (from python-dateutil>=2.1->matplotlib>=2.2->seaborn) (1.15.0)\n"
          ]
        }
      ]
    },
    {
      "cell_type": "code",
      "source": [
        "import seaborn as sns"
      ],
      "metadata": {
        "id": "9U4uF5uVPJtP"
      },
      "execution_count": 234,
      "outputs": []
    },
    {
      "cell_type": "code",
      "source": [
        "df_t = df.copy().transpose()"
      ],
      "metadata": {
        "id": "nc7z--GLPYBP"
      },
      "execution_count": 265,
      "outputs": []
    },
    {
      "cell_type": "code",
      "source": [
        "\n",
        "df_t = pd.DataFrame(df_t)"
      ],
      "metadata": {
        "id": "sQod3I0jRS5w"
      },
      "execution_count": 266,
      "outputs": []
    },
    {
      "cell_type": "code",
      "source": [
        "corr = df_t.corr(method = 'pearson')\n",
        "print(corr)"
      ],
      "metadata": {
        "colab": {
          "base_uri": "https://localhost:8080/"
        },
        "id": "_Dwml3d7PdBf",
        "outputId": "424a421c-e1ec-4c50-8173-6400e4fe85d9"
      },
      "execution_count": 267,
      "outputs": [
        {
          "output_type": "stream",
          "name": "stdout",
          "text": [
            "     0    1    2    3    4    5    6    7    8    9    ...  470  471  472  \\\n",
            "0    1.0  1.0  1.0  1.0 -1.0 -1.0  1.0 -1.0 -1.0 -1.0  ...  1.0  1.0  1.0   \n",
            "1    1.0  1.0  1.0  1.0 -1.0 -1.0  1.0 -1.0 -1.0 -1.0  ...  1.0  1.0  1.0   \n",
            "2    1.0  1.0  1.0  1.0 -1.0 -1.0  1.0 -1.0 -1.0 -1.0  ...  1.0  1.0  1.0   \n",
            "3    1.0  1.0  1.0  1.0 -1.0 -1.0  1.0 -1.0 -1.0 -1.0  ...  1.0  1.0  1.0   \n",
            "4   -1.0 -1.0 -1.0 -1.0  1.0  1.0 -1.0  1.0  1.0  1.0  ... -1.0 -1.0 -1.0   \n",
            "..   ...  ...  ...  ...  ...  ...  ...  ...  ...  ...  ...  ...  ...  ...   \n",
            "475 -1.0 -1.0 -1.0 -1.0  1.0  1.0 -1.0  1.0  1.0  1.0  ... -1.0 -1.0 -1.0   \n",
            "476 -1.0 -1.0 -1.0 -1.0  1.0  1.0 -1.0  1.0  1.0  1.0  ... -1.0 -1.0 -1.0   \n",
            "477 -1.0 -1.0 -1.0 -1.0  1.0  1.0 -1.0  1.0  1.0  1.0  ... -1.0 -1.0 -1.0   \n",
            "478 -1.0 -1.0 -1.0 -1.0  1.0  1.0 -1.0  1.0  1.0  1.0  ... -1.0 -1.0 -1.0   \n",
            "479 -1.0 -1.0 -1.0 -1.0  1.0  1.0 -1.0  1.0  1.0  1.0  ... -1.0 -1.0 -1.0   \n",
            "\n",
            "     473  474  475  476  477  478  479  \n",
            "0   -1.0 -1.0 -1.0 -1.0 -1.0 -1.0 -1.0  \n",
            "1   -1.0 -1.0 -1.0 -1.0 -1.0 -1.0 -1.0  \n",
            "2   -1.0 -1.0 -1.0 -1.0 -1.0 -1.0 -1.0  \n",
            "3   -1.0 -1.0 -1.0 -1.0 -1.0 -1.0 -1.0  \n",
            "4    1.0  1.0  1.0  1.0  1.0  1.0  1.0  \n",
            "..   ...  ...  ...  ...  ...  ...  ...  \n",
            "475  1.0  1.0  1.0  1.0  1.0  1.0  1.0  \n",
            "476  1.0  1.0  1.0  1.0  1.0  1.0  1.0  \n",
            "477  1.0  1.0  1.0  1.0  1.0  1.0  1.0  \n",
            "478  1.0  1.0  1.0  1.0  1.0  1.0  1.0  \n",
            "479  1.0  1.0  1.0  1.0  1.0  1.0  1.0  \n",
            "\n",
            "[480 rows x 480 columns]\n"
          ]
        }
      ]
    },
    {
      "cell_type": "code",
      "source": [
        "sns.heatmap(corr, vmax = 1)"
      ],
      "metadata": {
        "colab": {
          "base_uri": "https://localhost:8080/",
          "height": 296
        },
        "id": "FvGbmLgqSoqP",
        "outputId": "0c2dfb58-c86b-46dd-e37b-5ac3ff6b0109"
      },
      "execution_count": 268,
      "outputs": [
        {
          "output_type": "execute_result",
          "data": {
            "text/plain": [
              "<matplotlib.axes._subplots.AxesSubplot at 0x7f5008703a50>"
            ]
          },
          "metadata": {},
          "execution_count": 268
        },
        {
          "output_type": "display_data",
          "data": {
            "text/plain": [
              "<Figure size 432x288 with 2 Axes>"
            ],
            "image/png": "[encoded data removed]"
          },
          "metadata": {
            "needs_background": "light"
          }
        }
      ]
    },
    {
      "cell_type": "code",
      "source": [
        "r_ward = metrics.adjusted_rand_score(d['Class'], ward.labels_)\n",
        "r_ward"
      ],
      "metadata": {
        "colab": {
          "base_uri": "https://localhost:8080/"
        },
        "id": "944_zdC6P9E_",
        "outputId": "f878f0cc-418f-4821-9d49-ff1577a96cb5"
      },
      "execution_count": 272,
      "outputs": [
        {
          "output_type": "execute_result",
          "data": {
            "text/plain": [
              "0.9803009740372722"
            ]
          },
          "metadata": {},
          "execution_count": 272
        }
      ]
    },
    {
      "cell_type": "code",
      "source": [
        "r_single = metrics.adjusted_rand_score(d['Class'], single.labels_)\n",
        "r_single"
      ],
      "metadata": {
        "colab": {
          "base_uri": "https://localhost:8080/"
        },
        "id": "9KbpIgx4Uat2",
        "outputId": "b363dc35-10e7-4a4d-8e68-68db433fa5f6"
      },
      "execution_count": 273,
      "outputs": [
        {
          "output_type": "execute_result",
          "data": {
            "text/plain": [
              "0.8022147429363156"
            ]
          },
          "metadata": {},
          "execution_count": 273
        }
      ]
    },
    {
      "cell_type": "code",
      "source": [
        "r_complete = metrics.adjusted_rand_score(d['Class'], complete.labels_)\n",
        "r_complete"
      ],
      "metadata": {
        "colab": {
          "base_uri": "https://localhost:8080/"
        },
        "id": "OG44bqEoUoZc",
        "outputId": "7a9a717b-d8b5-4cec-ee47-9f4ef303cc69"
      },
      "execution_count": 274,
      "outputs": [
        {
          "output_type": "execute_result",
          "data": {
            "text/plain": [
              "0.809931679984334"
            ]
          },
          "metadata": {},
          "execution_count": 274
        }
      ]
    },
    {
      "cell_type": "code",
      "source": [
        "r_kmeans = metrics.adjusted_rand_score(d['Class'], kmeans.labels_)\n",
        "r_kmeans"
      ],
      "metadata": {
        "colab": {
          "base_uri": "https://localhost:8080/"
        },
        "id": "evzpQzNnUr5V",
        "outputId": "7d0caf58-3d0a-4a80-c7c6-736d3f496946"
      },
      "execution_count": 275,
      "outputs": [
        {
          "output_type": "execute_result",
          "data": {
            "text/plain": [
              "0.9752820336196293"
            ]
          },
          "metadata": {},
          "execution_count": 275
        }
      ]
    },
    {
      "cell_type": "code",
      "source": [
        "r_db = metrics.adjusted_rand_score(d['Class'], dbs.labels_)\n",
        "r_db"
      ],
      "metadata": {
        "colab": {
          "base_uri": "https://localhost:8080/"
        },
        "id": "rS9NUNizUvtG",
        "outputId": "38ba9482-ed93-4d0a-9b06-09cf87b50938"
      },
      "execution_count": 284,
      "outputs": [
        {
          "output_type": "execute_result",
          "data": {
            "text/plain": [
              "0.9824274646429886"
            ]
          },
          "metadata": {},
          "execution_count": 284
        }
      ]
    },
    {
      "cell_type": "code",
      "source": [
        "mm = np.zeros((480, 480), dtype = int)\n",
        "for i in range(480):\n",
        "  temp = []\n",
        "  for j in range(480):\n",
        "    if dbs.labels_[i] == dbs.labels_[j]:\n",
        "      mm[i][j] = 1"
      ],
      "metadata": {
        "id": "DdSgeuaxVQ8H"
      },
      "execution_count": 291,
      "outputs": []
    },
    {
      "cell_type": "code",
      "source": [
        "mm"
      ],
      "metadata": {
        "colab": {
          "base_uri": "https://localhost:8080/"
        },
        "id": "-qVrlvmEWDsX",
        "outputId": "4f87b104-e85a-4ea2-d3da-55fef681d650"
      },
      "execution_count": 292,
      "outputs": [
        {
          "output_type": "execute_result",
          "data": {
            "text/plain": [
              "array([[1, 0, 0, ..., 0, 0, 0],\n",
              "       [0, 1, 1, ..., 0, 0, 0],\n",
              "       [0, 1, 1, ..., 0, 0, 0],\n",
              "       ...,\n",
              "       [0, 0, 0, ..., 1, 1, 1],\n",
              "       [0, 0, 0, ..., 1, 1, 1],\n",
              "       [0, 0, 0, ..., 1, 1, 1]])"
            ]
          },
          "metadata": {},
          "execution_count": 292
        }
      ]
    },
    {
      "cell_type": "code",
      "source": [
        "plt.figure(figsize = (8, 8))\n",
        "plt.title(\"Visualizing the data\")\n",
        "Z = shc.linkage(df, method = \"ward\")\n",
        "dendrogram = shc.dendrogram(Z, p = 12, truncate_mode = 'lastp', labels = df.index)\n",
        "\n",
        "# def llf(id):\n",
        "#   if id < 480:\n",
        "#     return str(id)\n",
        "#   else:\n",
        "#     return '[%d %d %1.2f]' % (id, count, R[n-id,3])"
      ],
      "metadata": {
        "colab": {
          "base_uri": "https://localhost:8080/",
          "height": 502
        },
        "id": "3B9yt_7pWE0v",
        "outputId": "e8591903-2929-4da3-9526-f0cae8848514"
      },
      "execution_count": 303,
      "outputs": [
        {
          "output_type": "display_data",
          "data": {
            "text/plain": [
              "<Figure size 576x576 with 1 Axes>"
            ],
            "image/png": "[encoded data removed]"
          },
          "metadata": {
            "needs_background": "light"
          }
        }
      ]
    },
    {
      "cell_type": "code",
      "source": [
        "plt.figure(figsize = (8, 8))\n",
        "plt.title(\"Visualizing the data\")\n",
        "Z = shc.linkage(df, method = \"single\")\n",
        "dendrogram = shc.dendrogram(Z, p = 12, truncate_mode = 'lastp', labels = df.index)"
      ],
      "metadata": {
        "colab": {
          "base_uri": "https://localhost:8080/",
          "height": 502
        },
        "id": "TMC6DJJnYyyP",
        "outputId": "7b3df575-49f7-4db6-df15-937ac420de24"
      },
      "execution_count": 304,
      "outputs": [
        {
          "output_type": "display_data",
          "data": {
            "text/plain": [
              "<Figure size 576x576 with 1 Axes>"
            ],
            "image/png": "[encoded data removed]"
          },
          "metadata": {
            "needs_background": "light"
          }
        }
      ]
    },
    {
      "cell_type": "code",
      "source": [],
      "metadata": {
        "id": "LzCU6DgFaRYf"
      },
      "execution_count": null,
      "outputs": []
    }
  ]
}